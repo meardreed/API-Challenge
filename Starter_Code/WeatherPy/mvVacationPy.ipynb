{
 "cells": [
  {
   "cell_type": "markdown",
   "metadata": {},
   "source": [
    "# VacationPy\n",
    "---\n",
    "\n",
    "## Starter Code to Import Libraries and Load the Weather and Coordinates Data"
   ]
  },
  {
   "cell_type": "code",
   "execution_count": 11,
   "metadata": {},
   "outputs": [],
   "source": [
    "#pip install gmaps\n"
   ]
  },
  {
   "cell_type": "code",
   "execution_count": 22,
   "metadata": {},
   "outputs": [],
   "source": [
    "# Dependencies and Setup\n",
    "import hvplot.pandas\n",
    "import pandas as pd\n",
    "import requests\n",
    "\n",
    "\n",
    "# Import API key\n",
    "from api_keys import geoapify_key"
   ]
  },
  {
   "cell_type": "code",
   "execution_count": 39,
   "metadata": {},
   "outputs": [
    {
     "data": {
      "text/html": [
       "<div>\n",
       "<style scoped>\n",
       "    .dataframe tbody tr th:only-of-type {\n",
       "        vertical-align: middle;\n",
       "    }\n",
       "\n",
       "    .dataframe tbody tr th {\n",
       "        vertical-align: top;\n",
       "    }\n",
       "\n",
       "    .dataframe thead th {\n",
       "        text-align: right;\n",
       "    }\n",
       "</style>\n",
       "<table border=\"1\" class=\"dataframe\">\n",
       "  <thead>\n",
       "    <tr style=\"text-align: right;\">\n",
       "      <th></th>\n",
       "      <th>City_ID</th>\n",
       "      <th>City</th>\n",
       "      <th>Lat</th>\n",
       "      <th>Lng</th>\n",
       "      <th>Max Temp</th>\n",
       "      <th>Humidity</th>\n",
       "      <th>Cloudiness</th>\n",
       "      <th>Wind Speed</th>\n",
       "      <th>Country</th>\n",
       "      <th>Date</th>\n",
       "    </tr>\n",
       "  </thead>\n",
       "  <tbody>\n",
       "    <tr>\n",
       "      <th>0</th>\n",
       "      <td>0</td>\n",
       "      <td>ribeira grande</td>\n",
       "      <td>38.5167</td>\n",
       "      <td>-28.7000</td>\n",
       "      <td>12.65</td>\n",
       "      <td>68</td>\n",
       "      <td>58</td>\n",
       "      <td>1.79</td>\n",
       "      <td>PT</td>\n",
       "      <td>1680493777</td>\n",
       "    </tr>\n",
       "    <tr>\n",
       "      <th>1</th>\n",
       "      <td>1</td>\n",
       "      <td>port alfred</td>\n",
       "      <td>-33.5906</td>\n",
       "      <td>26.8910</td>\n",
       "      <td>18.43</td>\n",
       "      <td>88</td>\n",
       "      <td>100</td>\n",
       "      <td>0.89</td>\n",
       "      <td>ZA</td>\n",
       "      <td>1680493778</td>\n",
       "    </tr>\n",
       "    <tr>\n",
       "      <th>2</th>\n",
       "      <td>2</td>\n",
       "      <td>ushuaia</td>\n",
       "      <td>-54.8000</td>\n",
       "      <td>-68.3000</td>\n",
       "      <td>11.81</td>\n",
       "      <td>43</td>\n",
       "      <td>20</td>\n",
       "      <td>3.60</td>\n",
       "      <td>AR</td>\n",
       "      <td>1680493778</td>\n",
       "    </tr>\n",
       "    <tr>\n",
       "      <th>3</th>\n",
       "      <td>3</td>\n",
       "      <td>san pedro</td>\n",
       "      <td>14.3500</td>\n",
       "      <td>121.0167</td>\n",
       "      <td>33.51</td>\n",
       "      <td>58</td>\n",
       "      <td>20</td>\n",
       "      <td>1.54</td>\n",
       "      <td>PH</td>\n",
       "      <td>1680493778</td>\n",
       "    </tr>\n",
       "    <tr>\n",
       "      <th>4</th>\n",
       "      <td>4</td>\n",
       "      <td>hasaki</td>\n",
       "      <td>35.7333</td>\n",
       "      <td>140.8333</td>\n",
       "      <td>14.22</td>\n",
       "      <td>53</td>\n",
       "      <td>21</td>\n",
       "      <td>9.31</td>\n",
       "      <td>JP</td>\n",
       "      <td>1680493484</td>\n",
       "    </tr>\n",
       "  </tbody>\n",
       "</table>\n",
       "</div>"
      ],
      "text/plain": [
       "   City_ID            City      Lat       Lng  Max Temp  Humidity  Cloudiness  \\\n",
       "0        0  ribeira grande  38.5167  -28.7000     12.65        68          58   \n",
       "1        1     port alfred -33.5906   26.8910     18.43        88         100   \n",
       "2        2         ushuaia -54.8000  -68.3000     11.81        43          20   \n",
       "3        3       san pedro  14.3500  121.0167     33.51        58          20   \n",
       "4        4          hasaki  35.7333  140.8333     14.22        53          21   \n",
       "\n",
       "   Wind Speed Country        Date  \n",
       "0        1.79      PT  1680493777  \n",
       "1        0.89      ZA  1680493778  \n",
       "2        3.60      AR  1680493778  \n",
       "3        1.54      PH  1680493778  \n",
       "4        9.31      JP  1680493484  "
      ]
     },
     "execution_count": 39,
     "metadata": {},
     "output_type": "execute_result"
    }
   ],
   "source": [
    "# Load the CSV file created in Part 1 into a Pandas DataFrame\n",
    "city_data_df = pd.read_csv(\"../output_data/cities.csv\")\n",
    "\n",
    "# Display sample data\n",
    "city_data_df.head()"
   ]
  },
  {
   "cell_type": "markdown",
   "metadata": {},
   "source": [
    "---\n",
    "\n",
    "### Step 1: Create a map that displays a point for every city in the `city_data_df` DataFrame. The size of the point should be the humidity in each city."
   ]
  },
  {
   "cell_type": "code",
   "execution_count": 49,
   "metadata": {},
   "outputs": [
    {
     "data": {},
     "metadata": {},
     "output_type": "display_data"
    },
    {
     "data": {
      "application/vnd.holoviews_exec.v0+json": "",
      "text/html": [
       "<div id='1389'>\n",
       "  <div class=\"bk-root\" id=\"64a509fd-5ea4-453d-919f-9a8eef75de47\" data-root-id=\"1389\"></div>\n",
       "</div>\n",
       "<script type=\"application/javascript\">(function(root) {\n",
       "  function embed_document(root) {\n",
       "    var docs_json = {\"389364b0-f589-4f70-81fc-882fcb0778b3\":{\"defs\":[{\"extends\":null,\"module\":null,\"name\":\"ReactiveHTML1\",\"overrides\":[],\"properties\":[]},{\"extends\":null,\"module\":null,\"name\":\"FlexBox1\",\"overrides\":[],\"properties\":[{\"default\":\"flex-start\",\"kind\":null,\"name\":\"align_content\"},{\"default\":\"flex-start\",\"kind\":null,\"name\":\"align_items\"},{\"default\":\"row\",\"kind\":null,\"name\":\"flex_direction\"},{\"default\":\"wrap\",\"kind\":null,\"name\":\"flex_wrap\"},{\"default\":\"flex-start\",\"kind\":null,\"name\":\"justify_content\"}]},{\"extends\":null,\"module\":null,\"name\":\"GridStack1\",\"overrides\":[],\"properties\":[{\"default\":\"warn\",\"kind\":null,\"name\":\"mode\"},{\"default\":null,\"kind\":null,\"name\":\"ncols\"},{\"default\":null,\"kind\":null,\"name\":\"nrows\"},{\"default\":true,\"kind\":null,\"name\":\"allow_resize\"},{\"default\":true,\"kind\":null,\"name\":\"allow_drag\"},{\"default\":[],\"kind\":null,\"name\":\"state\"}]},{\"extends\":null,\"module\":null,\"name\":\"click1\",\"overrides\":[],\"properties\":[{\"default\":\"\",\"kind\":null,\"name\":\"terminal_output\"},{\"default\":\"\",\"kind\":null,\"name\":\"debug_name\"},{\"default\":0,\"kind\":null,\"name\":\"clears\"}]},{\"extends\":null,\"module\":null,\"name\":\"NotificationAreaBase1\",\"overrides\":[],\"properties\":[{\"default\":\"bottom-right\",\"kind\":null,\"name\":\"position\"},{\"default\":0,\"kind\":null,\"name\":\"_clear\"}]},{\"extends\":null,\"module\":null,\"name\":\"NotificationArea1\",\"overrides\":[],\"properties\":[{\"default\":[],\"kind\":null,\"name\":\"notifications\"},{\"default\":\"bottom-right\",\"kind\":null,\"name\":\"position\"},{\"default\":0,\"kind\":null,\"name\":\"_clear\"},{\"default\":[{\"background\":\"#ffc107\",\"icon\":{\"className\":\"fas fa-exclamation-triangle\",\"color\":\"white\",\"tagName\":\"i\"},\"type\":\"warning\"},{\"background\":\"#007bff\",\"icon\":{\"className\":\"fas fa-info-circle\",\"color\":\"white\",\"tagName\":\"i\"},\"type\":\"info\"}],\"kind\":null,\"name\":\"types\"}]},{\"extends\":null,\"module\":null,\"name\":\"Notification\",\"overrides\":[],\"properties\":[{\"default\":null,\"kind\":null,\"name\":\"background\"},{\"default\":3000,\"kind\":null,\"name\":\"duration\"},{\"default\":null,\"kind\":null,\"name\":\"icon\"},{\"default\":\"\",\"kind\":null,\"name\":\"message\"},{\"default\":null,\"kind\":null,\"name\":\"notification_type\"},{\"default\":false,\"kind\":null,\"name\":\"_destroyed\"}]},{\"extends\":null,\"module\":null,\"name\":\"TemplateActions1\",\"overrides\":[],\"properties\":[{\"default\":0,\"kind\":null,\"name\":\"open_modal\"},{\"default\":0,\"kind\":null,\"name\":\"close_modal\"}]},{\"extends\":null,\"module\":null,\"name\":\"MaterialTemplateActions1\",\"overrides\":[],\"properties\":[{\"default\":0,\"kind\":null,\"name\":\"open_modal\"},{\"default\":0,\"kind\":null,\"name\":\"close_modal\"}]}],\"roots\":{\"references\":[{\"attributes\":{\"zoom_on_axis\":false},\"id\":\"1421\",\"type\":\"WheelZoomTool\"},{\"attributes\":{\"axis\":{\"id\":\"1415\"},\"coordinates\":null,\"dimension\":1,\"grid_line_color\":null,\"group\":null,\"ticker\":null},\"id\":\"1418\",\"type\":\"Grid\"},{\"attributes\":{\"attribution\":\"&copy; <a href=\\\"https://www.openstreetmap.org/copyright\\\">OpenStreetMap</a> contributors\",\"url\":\"https://c.tile.openstreetmap.org/{Z}/{X}/{Y}.png\"},\"id\":\"1460\",\"type\":\"WMTSTileSource\"},{\"attributes\":{\"coordinates\":null,\"group\":null,\"level\":\"glyph\",\"tile_source\":{\"id\":\"1460\"}},\"id\":\"1463\",\"type\":\"TileRenderer\"},{\"attributes\":{\"fill_alpha\":{\"value\":0.1},\"fill_color\":{\"field\":\"color\",\"transform\":{\"id\":\"1465\"}},\"hatch_alpha\":{\"value\":0.1},\"hatch_color\":{\"field\":\"color\",\"transform\":{\"id\":\"1465\"}},\"line_alpha\":{\"value\":0.1},\"line_color\":{\"field\":\"color\",\"transform\":{\"id\":\"1465\"}},\"size\":{\"field\":\"size\"},\"x\":{\"field\":\"Lng\"},\"y\":{\"field\":\"Lat\"}},\"id\":\"1470\",\"type\":\"Scatter\"},{\"attributes\":{\"margin\":[5,5,5,5],\"name\":\"HSpacer01958\",\"sizing_mode\":\"stretch_width\"},\"id\":\"1492\",\"type\":\"Spacer\"},{\"attributes\":{\"axis_label\":\"y\",\"coordinates\":null,\"formatter\":{\"id\":\"1437\"},\"group\":null,\"major_label_policy\":{\"id\":\"1447\"},\"ticker\":{\"id\":\"1436\"}},\"id\":\"1415\",\"type\":\"LinearAxis\"},{\"attributes\":{\"fill_color\":{\"field\":\"color\",\"transform\":{\"id\":\"1465\"}},\"hatch_color\":{\"field\":\"color\",\"transform\":{\"id\":\"1465\"}},\"line_color\":{\"field\":\"color\",\"transform\":{\"id\":\"1465\"}},\"size\":{\"field\":\"size\"},\"x\":{\"field\":\"Lng\"},\"y\":{\"field\":\"Lat\"}},\"id\":\"1472\",\"type\":\"Scatter\"},{\"attributes\":{\"match_aspect\":true,\"overlay\":{\"id\":\"1424\"}},\"id\":\"1422\",\"type\":\"BoxZoomTool\"},{\"attributes\":{},\"id\":\"1467\",\"type\":\"Selection\"},{\"attributes\":{\"bottom_units\":\"screen\",\"coordinates\":null,\"fill_alpha\":0.5,\"fill_color\":\"lightgrey\",\"group\":null,\"left_units\":\"screen\",\"level\":\"overlay\",\"line_alpha\":1.0,\"line_color\":\"black\",\"line_dash\":[4,4],\"line_width\":2,\"right_units\":\"screen\",\"syncable\":false,\"top_units\":\"screen\"},\"id\":\"1424\",\"type\":\"BoxAnnotation\"},{\"attributes\":{\"data\":{\"City\":[\"ribeira grande\",\"port alfred\",\"ushuaia\",\"san pedro\",\"hasaki\",\"georgetown\",\"semirara\",\"carnarvon\",\"salinopolis\",\"simplicio mendes\",\"sulangan\",\"rikitea\",\"adrar\",\"port hardy\",\"dingle\",\"lusambo\",\"castro\",\"asosa\",\"barrow\",\"saint-philippe\",\"atuona\",\"bathsheba\",\"la palma\",\"punta arenas\",\"hobart\",\"tautira\",\"monrovia\",\"gorontalo\",\"iqaluit\",\"mar del plata\",\"raymond\",\"san cristobal\",\"pevek\",\"baruun-urt\",\"lennestadt\",\"eirunepe\",\"poronaysk\",\"puerto ayora\",\"corning\",\"nisia floresta\",\"longyearbyen\",\"eldorado\",\"mataura\",\"avera\",\"santona\",\"namatanai\",\"koraput\",\"kapaa\",\"warman\",\"butaritari\",\"jamestown\",\"mumford\",\"cherskiy\",\"albany\",\"talnakh\",\"pisco\",\"hermanus\",\"ust-uda\",\"kachug\",\"codrington\",\"santa rosa\",\"hithadhoo\",\"nuuk\",\"japura\",\"busselton\",\"hervey bay\",\"coihaique\",\"fort nelson\",\"caravelas\",\"mae hong son\",\"pilar\",\"upernavik\",\"guerrero negro\",\"mecca\",\"saskylakh\",\"rocha\",\"zyryanka\",\"chimore\",\"usinsk\",\"hilo\",\"hambantota\",\"ixtapa\",\"cape town\",\"cidreira\",\"college\",\"san quintin\",\"inhambane\",\"akcakoca\",\"pangnirtung\",\"lompoc\",\"avarua\",\"sorsk\",\"port blair\",\"vardo\",\"imbituba\",\"rio gallegos\",\"pokrovsk\",\"kodiak\",\"valjevo\",\"trelew\",\"faanui\",\"kavieng\",\"nikolskoye\",\"souillac\",\"kattivakkam\",\"coahuayana\",\"novyye burasy\",\"mayya\",\"yuli\",\"mackenzie\",\"laguna\",\"angouleme\",\"pathein\",\"the valley\",\"katsuura\",\"mount gambier\",\"bluff\",\"mahibadhoo\",\"vaini\",\"chuy\",\"dioknisi\",\"goba\",\"kavaratti\",\"bay roberts\",\"klaksvik\",\"zhezkazgan\",\"los llanos de aridane\",\"ibra\",\"menongue\",\"sterling\",\"lata\",\"kinel\",\"vallenar\",\"boa vista\",\"lasa\",\"langsa\",\"pingdu\",\"fortuna\",\"bilibino\",\"husavik\",\"luganville\",\"paamiut\",\"zhigansk\",\"tasiilaq\",\"vao\",\"nizhniy chir\",\"yellowknife\",\"bambous virieux\",\"marzuq\",\"qaanaaq\",\"amapa\",\"russkaya polyana\",\"coquimbo\",\"mogadishu\",\"kununurra\",\"waitara\",\"telbang\",\"geraldton\",\"flinders\",\"pochutla\",\"carutapera\",\"rawson\",\"new norfolk\",\"ponta do sol\",\"bethel\",\"port hedland\",\"jizan\",\"jais\",\"ferkessedougou\",\"airai\",\"mareeba\",\"lavrentiya\",\"ust-nera\",\"atasu\",\"lamu\",\"port lincoln\",\"totma\",\"puerto escondido\",\"dikson\",\"lebu\",\"ketchikan\",\"bredasdorp\",\"athabasca\",\"arkhangelsk\",\"aklavik\",\"maniitsoq\",\"vostok\",\"bulgan\",\"rennes\",\"cocorit\",\"khatanga\",\"nieuw amsterdam\",\"necochea\",\"yuanping\",\"praya\",\"nantucket\",\"penzance\",\"provideniya\",\"boddam\",\"upington\",\"makakilo city\",\"koutiala\",\"havelock\",\"severo-kurilsk\",\"manado\",\"mabaruma\",\"saint george\",\"yulara\",\"honiara\",\"lagoa\",\"ancud\",\"bengkulu\",\"guhagar\",\"toccoa\",\"viransehir\",\"egvekinot\",\"ginir\",\"darhan\",\"torbay\",\"san ramon de la nueva oran\",\"kodinar\",\"dunedin\",\"frankfort\",\"valle de allende\",\"wegrow\",\"haines junction\",\"porto walter\",\"staryy nadym\",\"naron\",\"port macquarie\",\"marsa matruh\",\"ternate\",\"utkivka\",\"great yarmouth\",\"amravati\",\"arraial do cabo\",\"isangel\",\"saint anthony\",\"clyde river\",\"kemin\",\"chokurdakh\",\"albolote\",\"jacareacanga\",\"beloha\",\"tiksi\",\"kyra\",\"gat\",\"tuktoyaktuk\",\"kaitangata\",\"sawakin\",\"quepos\",\"kautokeino\",\"kahului\",\"toma\",\"plettenberg bay\",\"cabo san lucas\",\"sao filipe\",\"vagamo\",\"lazaro cardenas\",\"saldanha\",\"tuatapere\",\"bud\",\"thompson\",\"port elizabeth\",\"anaconda\",\"omama\",\"trapani\",\"kulhudhuffushi\",\"asau\",\"santa cruz\",\"kiunga\",\"weston\",\"cockburn town\",\"margate\",\"fairbanks\",\"ostrovnoy\",\"broken hill\",\"tagusao\",\"tarauaca\",\"kloulklubed\",\"tessalit\",\"korla\",\"atar\",\"sayyan\",\"chemax\",\"esperance\",\"ravar\",\"niquero\",\"bereda\",\"san patricio\",\"sinnamary\",\"san luis\",\"sao joao da barra\",\"east london\",\"asfi\",\"glendive\",\"vestmannaeyjar\",\"turuvekere\",\"faqirwali\",\"harper\",\"muli\",\"luwuk\",\"penha\",\"princeton\",\"taveta\",\"mao\",\"alexandria\",\"berlevag\",\"jalpan\",\"anadyr\",\"jumla\",\"leningradskiy\",\"nemuro\",\"dogondoutchi\",\"lorengau\",\"bang rakam\",\"muros\",\"beringovskiy\",\"hobyo\",\"te anau\",\"krasnoselkup\",\"victoria\",\"mocuba\",\"soe\",\"maiduguri\",\"qixingtai\",\"mobaye\",\"tres arroyos\",\"roanoke rapids\",\"maldonado\",\"villa bruzual\",\"olinda\",\"agadir\",\"baie-comeau\",\"gamba\",\"serebryansk\",\"naze\",\"mahebourg\",\"umuahia\",\"alofi\",\"phonhong\",\"eyl\",\"sidi ali\",\"byron bay\",\"olafsvik\",\"norman wells\",\"rock sound\",\"seoul\",\"ozinki\",\"oistins\",\"sao felix do xingu\",\"vila franca do campo\",\"benghazi\",\"plouzane\",\"ingham\",\"muzhi\",\"tigil\",\"chabahar\",\"yumen\",\"auburn\",\"sur\",\"termoli\",\"leshukonskoye\",\"trairi\",\"lebedyn\",\"moron\",\"ambatolampy\",\"yaan\",\"guiratinga\",\"sakakah\",\"alyangula\",\"mayo\",\"dong hoi\",\"magdagachi\",\"termiz\",\"lodja\",\"arrecife\",\"isoka\",\"neftekamsk\",\"san ramon\",\"faya\",\"north bend\",\"tarakan\",\"halifax\",\"azul\",\"chinhoyi\",\"shimoda\",\"samarai\",\"alibag\",\"inirida\",\"aktau\",\"quzhou\",\"rehnan\",\"puerto leguizamo\",\"albanel\",\"matara\",\"cabra\",\"rabo de peixe\",\"fereydun kenar\",\"kruisfontein\",\"el cobre\",\"manta\",\"bilma\",\"seminole\",\"paita\",\"beberibe\",\"yeppoon\",\"narsaq\",\"constitucion\",\"berdigestyakh\",\"alice springs\",\"ulladulla\",\"chase\",\"massaguet\",\"sisimiut\",\"betamcherla\",\"broome\",\"vigrestad\",\"mount isa\",\"dzaoudzi\",\"yakeshi\",\"homer\",\"tiarei\",\"vanimo\",\"nenjiang\",\"cururupu\",\"valdivia\",\"la ronge\",\"nioro\",\"jiazi\",\"acambaro\",\"male\",\"ngunguru\",\"rajpipla\",\"dicabisagan\",\"kismayo\",\"zhuhai\",\"nezhinka\",\"santiago del estero\",\"tromso\",\"mercedes\",\"poum\",\"pacific grove\",\"saint-joseph\",\"dingli\",\"praia da vitoria\",\"newton\",\"noumea\",\"salalah\",\"garchitorena\",\"hofn\",\"itarema\",\"saint-augustin\",\"rudbar\",\"taoudenni\",\"balad\",\"meulaboh\",\"abalak\",\"ambilobe\",\"lethem\",\"semarang\",\"erenhot\",\"brignais\",\"komadi\",\"chancay\",\"stornoway\",\"ilulissat\",\"mudanjiang\",\"portland\",\"antalaha\",\"aloleng\",\"boueni\",\"witu\",\"pundaguitan\",\"berezhany\",\"aksaray\",\"palmer\",\"waitati\",\"waingapu\",\"makat\",\"qasigiannguit\",\"takaka\",\"havoysund\",\"mehran\",\"itumba\",\"quirinopolis\",\"jiuquan\",\"lodwar\",\"tevaitoa\",\"surt\",\"morehead\",\"sindor\",\"kerkini\",\"jatai\",\"denpasar\",\"dakar\",\"neepawa\",\"pietarsaari\",\"katobu\",\"puri\",\"muisne\",\"batagay-alyta\",\"bandarbeyla\",\"sungaipenuh\",\"arlit\",\"hami\",\"wewak\",\"acapulco\",\"denham springs\",\"new london\",\"hasilpur\",\"sitka\",\"lakes entrance\",\"otrado-olginskoye\",\"kushiro\",\"rozhyshche\",\"quelimane\",\"kalakamati\",\"kirakira\",\"yeniseysk\",\"maple creek\",\"srednekolymsk\",\"alcantara\",\"planaltina\",\"moindou\",\"san juan pueblo\",\"havre-saint-pierre\",\"khorramshahr\",\"yei\",\"mehamn\",\"arman\",\"puerto del rosario\",\"betanzos\",\"hegang\",\"taksimo\",\"tsiroanomandidy\",\"kilindoni\",\"ati\",\"inuvik\",\"chipinge\",\"ewa beach\",\"florence\",\"thunder bay\",\"gwanda\",\"ambovombe\",\"big rapids\",\"derzhavinsk\",\"campbellton\",\"morro bay\",\"camalu\",\"khumalag\",\"barao de melgaco\",\"ucluelet\",\"hovd\",\"can tho\",\"vila do maio\",\"chicama\"],\"Humidity\":[68,88,43,58,53,94,78,71,83,77,71,81,6,75,48,98,99,17,78,72,78,73,81,66,53,74,87,57,61,70,50,91,90,32,93,99,77,94,68,85,86,89,44,47,84,69,29,85,86,74,51,84,82,45,92,88,93,49,50,57,46,68,68,72,51,64,81,59,91,45,92,98,77,51,93,69,75,77,82,96,79,87,85,71,65,88,93,85,66,80,69,50,70,86,69,66,91,45,93,75,70,66,95,94,79,87,65,76,13,64,72,89,42,71,56,41,54,70,64,82,96,88,69,87,83,28,93,28,95,67,64,66,63,61,94,87,25,84,83,83,69,56,94,92,79,73,78,94,65,60,99,94,100,77,78,64,53,57,60,75,91,74,51,79,46,55,73,32,56,50,66,85,81,26,79,48,100,69,95,82,61,89,94,100,95,58,41,32,93,26,93,85,68,85,68,44,87,67,76,45,78,9,79,84,66,98,25,28,71,61,78,68,52,58,86,92,83,32,90,77,58,59,74,14,78,74,99,83,71,85,39,74,72,71,21,67,73,80,83,20,86,44,100,86,82,43,52,78,57,62,76,93,80,12,91,67,68,89,72,92,64,73,60,84,87,54,87,63,93,88,84,74,73,80,66,94,22,69,99,68,8,19,7,77,88,61,13,73,100,81,85,77,71,72,90,86,91,32,40,85,70,60,77,86,87,66,53,68,83,85,45,89,62,11,77,45,85,94,72,50,88,89,89,54,13,94,70,63,93,64,72,69,85,45,93,74,66,94,89,78,26,72,49,75,84,53,73,16,51,73,99,66,79,76,76,74,98,57,28,90,63,79,96,92,83,93,95,65,90,22,54,69,55,69,82,98,77,97,69,78,77,87,74,41,49,97,61,71,60,96,76,61,26,99,72,71,36,66,66,87,73,78,7,87,83,84,79,77,71,82,30,58,90,12,63,41,61,77,22,100,41,62,73,77,24,98,92,38,61,79,38,70,48,39,73,76,94,60,78,47,97,78,80,71,87,76,37,99,34,71,90,90,88,36,8,37,72,76,93,68,70,32,94,82,79,84,84,26,90,90,67,75,81,76,98,74,61,56,72,77,90,84,66,46,98,75,34,58,68,65,47,94,70,86,88,94,92,82,93,66,81,71,72,67,6,18,73,69,85,49,47,81,65,72,37,93,74,67,75,92,86,73,92,90,71,93,67,63,74,74,65,77,84,18,60,93,80,15,53,96,78,71,93,95,87,72,40,79,85,87,93,86,81,27,66,85,74],\"Lat\":{\"__ndarray__\":\"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\",\"dtype\":\"float64\",\"order\":\"little\",\"shape\":[557]},\"Lng\":{\"__ndarray__\":\"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\",\"dtype\":\"float64\",\"order\":\"little\",\"shape\":[557]},\"color\":[\"ribeira grande\",\"port alfred\",\"ushuaia\",\"san pedro\",\"hasaki\",\"georgetown\",\"semirara\",\"carnarvon\",\"salinopolis\",\"simplicio mendes\",\"sulangan\",\"rikitea\",\"adrar\",\"port hardy\",\"dingle\",\"lusambo\",\"castro\",\"asosa\",\"barrow\",\"saint-philippe\",\"atuona\",\"bathsheba\",\"la palma\",\"punta arenas\",\"hobart\",\"tautira\",\"monrovia\",\"gorontalo\",\"iqaluit\",\"mar del plata\",\"raymond\",\"san cristobal\",\"pevek\",\"baruun-urt\",\"lennestadt\",\"eirunepe\",\"poronaysk\",\"puerto ayora\",\"corning\",\"nisia floresta\",\"longyearbyen\",\"eldorado\",\"mataura\",\"avera\",\"santona\",\"namatanai\",\"koraput\",\"kapaa\",\"warman\",\"butaritari\",\"jamestown\",\"mumford\",\"cherskiy\",\"albany\",\"talnakh\",\"pisco\",\"hermanus\",\"ust-uda\",\"kachug\",\"codrington\",\"santa rosa\",\"hithadhoo\",\"nuuk\",\"japura\",\"busselton\",\"hervey bay\",\"coihaique\",\"fort nelson\",\"caravelas\",\"mae hong son\",\"pilar\",\"upernavik\",\"guerrero negro\",\"mecca\",\"saskylakh\",\"rocha\",\"zyryanka\",\"chimore\",\"usinsk\",\"hilo\",\"hambantota\",\"ixtapa\",\"cape town\",\"cidreira\",\"college\",\"san quintin\",\"inhambane\",\"akcakoca\",\"pangnirtung\",\"lompoc\",\"avarua\",\"sorsk\",\"port blair\",\"vardo\",\"imbituba\",\"rio gallegos\",\"pokrovsk\",\"kodiak\",\"valjevo\",\"trelew\",\"faanui\",\"kavieng\",\"nikolskoye\",\"souillac\",\"kattivakkam\",\"coahuayana\",\"novyye burasy\",\"mayya\",\"yuli\",\"mackenzie\",\"laguna\",\"angouleme\",\"pathein\",\"the valley\",\"katsuura\",\"mount gambier\",\"bluff\",\"mahibadhoo\",\"vaini\",\"chuy\",\"dioknisi\",\"goba\",\"kavaratti\",\"bay roberts\",\"klaksvik\",\"zhezkazgan\",\"los llanos de aridane\",\"ibra\",\"menongue\",\"sterling\",\"lata\",\"kinel\",\"vallenar\",\"boa vista\",\"lasa\",\"langsa\",\"pingdu\",\"fortuna\",\"bilibino\",\"husavik\",\"luganville\",\"paamiut\",\"zhigansk\",\"tasiilaq\",\"vao\",\"nizhniy chir\",\"yellowknife\",\"bambous virieux\",\"marzuq\",\"qaanaaq\",\"amapa\",\"russkaya polyana\",\"coquimbo\",\"mogadishu\",\"kununurra\",\"waitara\",\"telbang\",\"geraldton\",\"flinders\",\"pochutla\",\"carutapera\",\"rawson\",\"new norfolk\",\"ponta do sol\",\"bethel\",\"port hedland\",\"jizan\",\"jais\",\"ferkessedougou\",\"airai\",\"mareeba\",\"lavrentiya\",\"ust-nera\",\"atasu\",\"lamu\",\"port lincoln\",\"totma\",\"puerto escondido\",\"dikson\",\"lebu\",\"ketchikan\",\"bredasdorp\",\"athabasca\",\"arkhangelsk\",\"aklavik\",\"maniitsoq\",\"vostok\",\"bulgan\",\"rennes\",\"cocorit\",\"khatanga\",\"nieuw amsterdam\",\"necochea\",\"yuanping\",\"praya\",\"nantucket\",\"penzance\",\"provideniya\",\"boddam\",\"upington\",\"makakilo city\",\"koutiala\",\"havelock\",\"severo-kurilsk\",\"manado\",\"mabaruma\",\"saint george\",\"yulara\",\"honiara\",\"lagoa\",\"ancud\",\"bengkulu\",\"guhagar\",\"toccoa\",\"viransehir\",\"egvekinot\",\"ginir\",\"darhan\",\"torbay\",\"san ramon de la nueva oran\",\"kodinar\",\"dunedin\",\"frankfort\",\"valle de allende\",\"wegrow\",\"haines junction\",\"porto walter\",\"staryy nadym\",\"naron\",\"port macquarie\",\"marsa matruh\",\"ternate\",\"utkivka\",\"great yarmouth\",\"amravati\",\"arraial do cabo\",\"isangel\",\"saint anthony\",\"clyde river\",\"kemin\",\"chokurdakh\",\"albolote\",\"jacareacanga\",\"beloha\",\"tiksi\",\"kyra\",\"gat\",\"tuktoyaktuk\",\"kaitangata\",\"sawakin\",\"quepos\",\"kautokeino\",\"kahului\",\"toma\",\"plettenberg bay\",\"cabo san lucas\",\"sao filipe\",\"vagamo\",\"lazaro cardenas\",\"saldanha\",\"tuatapere\",\"bud\",\"thompson\",\"port elizabeth\",\"anaconda\",\"omama\",\"trapani\",\"kulhudhuffushi\",\"asau\",\"santa cruz\",\"kiunga\",\"weston\",\"cockburn town\",\"margate\",\"fairbanks\",\"ostrovnoy\",\"broken hill\",\"tagusao\",\"tarauaca\",\"kloulklubed\",\"tessalit\",\"korla\",\"atar\",\"sayyan\",\"chemax\",\"esperance\",\"ravar\",\"niquero\",\"bereda\",\"san patricio\",\"sinnamary\",\"san luis\",\"sao joao da barra\",\"east london\",\"asfi\",\"glendive\",\"vestmannaeyjar\",\"turuvekere\",\"faqirwali\",\"harper\",\"muli\",\"luwuk\",\"penha\",\"princeton\",\"taveta\",\"mao\",\"alexandria\",\"berlevag\",\"jalpan\",\"anadyr\",\"jumla\",\"leningradskiy\",\"nemuro\",\"dogondoutchi\",\"lorengau\",\"bang rakam\",\"muros\",\"beringovskiy\",\"hobyo\",\"te anau\",\"krasnoselkup\",\"victoria\",\"mocuba\",\"soe\",\"maiduguri\",\"qixingtai\",\"mobaye\",\"tres arroyos\",\"roanoke rapids\",\"maldonado\",\"villa bruzual\",\"olinda\",\"agadir\",\"baie-comeau\",\"gamba\",\"serebryansk\",\"naze\",\"mahebourg\",\"umuahia\",\"alofi\",\"phonhong\",\"eyl\",\"sidi ali\",\"byron bay\",\"olafsvik\",\"norman wells\",\"rock sound\",\"seoul\",\"ozinki\",\"oistins\",\"sao felix do xingu\",\"vila franca do campo\",\"benghazi\",\"plouzane\",\"ingham\",\"muzhi\",\"tigil\",\"chabahar\",\"yumen\",\"auburn\",\"sur\",\"termoli\",\"leshukonskoye\",\"trairi\",\"lebedyn\",\"moron\",\"ambatolampy\",\"yaan\",\"guiratinga\",\"sakakah\",\"alyangula\",\"mayo\",\"dong hoi\",\"magdagachi\",\"termiz\",\"lodja\",\"arrecife\",\"isoka\",\"neftekamsk\",\"san ramon\",\"faya\",\"north bend\",\"tarakan\",\"halifax\",\"azul\",\"chinhoyi\",\"shimoda\",\"samarai\",\"alibag\",\"inirida\",\"aktau\",\"quzhou\",\"rehnan\",\"puerto leguizamo\",\"albanel\",\"matara\",\"cabra\",\"rabo de peixe\",\"fereydun kenar\",\"kruisfontein\",\"el cobre\",\"manta\",\"bilma\",\"seminole\",\"paita\",\"beberibe\",\"yeppoon\",\"narsaq\",\"constitucion\",\"berdigestyakh\",\"alice springs\",\"ulladulla\",\"chase\",\"massaguet\",\"sisimiut\",\"betamcherla\",\"broome\",\"vigrestad\",\"mount isa\",\"dzaoudzi\",\"yakeshi\",\"homer\",\"tiarei\",\"vanimo\",\"nenjiang\",\"cururupu\",\"valdivia\",\"la ronge\",\"nioro\",\"jiazi\",\"acambaro\",\"male\",\"ngunguru\",\"rajpipla\",\"dicabisagan\",\"kismayo\",\"zhuhai\",\"nezhinka\",\"santiago del estero\",\"tromso\",\"mercedes\",\"poum\",\"pacific grove\",\"saint-joseph\",\"dingli\",\"praia da vitoria\",\"newton\",\"noumea\",\"salalah\",\"garchitorena\",\"hofn\",\"itarema\",\"saint-augustin\",\"rudbar\",\"taoudenni\",\"balad\",\"meulaboh\",\"abalak\",\"ambilobe\",\"lethem\",\"semarang\",\"erenhot\",\"brignais\",\"komadi\",\"chancay\",\"stornoway\",\"ilulissat\",\"mudanjiang\",\"portland\",\"antalaha\",\"aloleng\",\"boueni\",\"witu\",\"pundaguitan\",\"berezhany\",\"aksaray\",\"palmer\",\"waitati\",\"waingapu\",\"makat\",\"qasigiannguit\",\"takaka\",\"havoysund\",\"mehran\",\"itumba\",\"quirinopolis\",\"jiuquan\",\"lodwar\",\"tevaitoa\",\"surt\",\"morehead\",\"sindor\",\"kerkini\",\"jatai\",\"denpasar\",\"dakar\",\"neepawa\",\"pietarsaari\",\"katobu\",\"puri\",\"muisne\",\"batagay-alyta\",\"bandarbeyla\",\"sungaipenuh\",\"arlit\",\"hami\",\"wewak\",\"acapulco\",\"denham springs\",\"new london\",\"hasilpur\",\"sitka\",\"lakes entrance\",\"otrado-olginskoye\",\"kushiro\",\"rozhyshche\",\"quelimane\",\"kalakamati\",\"kirakira\",\"yeniseysk\",\"maple creek\",\"srednekolymsk\",\"alcantara\",\"planaltina\",\"moindou\",\"san juan pueblo\",\"havre-saint-pierre\",\"khorramshahr\",\"yei\",\"mehamn\",\"arman\",\"puerto del rosario\",\"betanzos\",\"hegang\",\"taksimo\",\"tsiroanomandidy\",\"kilindoni\",\"ati\",\"inuvik\",\"chipinge\",\"ewa beach\",\"florence\",\"thunder bay\",\"gwanda\",\"ambovombe\",\"big rapids\",\"derzhavinsk\",\"campbellton\",\"morro bay\",\"camalu\",\"khumalag\",\"barao de melgaco\",\"ucluelet\",\"hovd\",\"can tho\",\"vila do maio\",\"chicama\"],\"size\":{\"__ndarray__\":\"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\",\"dtype\":\"float64\",\"order\":\"little\",\"shape\":[557]}},\"selected\":{\"id\":\"1467\"},\"selection_policy\":{\"id\":\"1479\"}},\"id\":\"1466\",\"type\":\"ColumnDataSource\"},{\"attributes\":{\"code\":\"\\n        var projections = Bokeh.require(\\\"core/util/projections\\\");\\n        var x = special_vars.data_x\\n        var y = special_vars.data_y\\n        var coords = projections.wgs84_mercator.invert(x, y)\\n        return \\\"\\\" + (coords[0]).toFixed(4)\\n    \"},\"id\":\"1484\",\"type\":\"CustomJSHover\"},{\"attributes\":{},\"id\":\"1423\",\"type\":\"ResetTool\"},{\"attributes\":{\"coordinates\":null,\"data_source\":{\"id\":\"1466\"},\"glyph\":{\"id\":\"1469\"},\"group\":null,\"hover_glyph\":{\"id\":\"1472\"},\"muted_glyph\":{\"id\":\"1473\"},\"nonselection_glyph\":{\"id\":\"1470\"},\"selection_glyph\":{\"id\":\"1471\"},\"view\":{\"id\":\"1475\"}},\"id\":\"1474\",\"type\":\"GlyphRenderer\"},{\"attributes\":{\"fill_color\":{\"field\":\"color\",\"transform\":{\"id\":\"1465\"}},\"hatch_color\":{\"field\":\"color\",\"transform\":{\"id\":\"1465\"}},\"line_color\":{\"field\":\"color\",\"transform\":{\"id\":\"1465\"}},\"size\":{\"field\":\"size\"},\"x\":{\"field\":\"Lng\"},\"y\":{\"field\":\"Lat\"}},\"id\":\"1469\",\"type\":\"Scatter\"},{\"attributes\":{\"dimension\":\"lat\"},\"id\":\"1437\",\"type\":\"MercatorTickFormatter\"},{\"attributes\":{\"dimension\":\"lon\"},\"id\":\"1435\",\"type\":\"MercatorTickFormatter\"},{\"attributes\":{\"source\":{\"id\":\"1466\"}},\"id\":\"1475\",\"type\":\"CDSView\"},{\"attributes\":{\"coordinates\":null,\"group\":null,\"text_color\":\"black\",\"text_font_size\":\"12pt\"},\"id\":\"1403\",\"type\":\"Title\"},{\"attributes\":{\"tools\":[{\"id\":\"1399\"},{\"id\":\"1419\"},{\"id\":\"1420\"},{\"id\":\"1421\"},{\"id\":\"1422\"},{\"id\":\"1423\"}]},\"id\":\"1425\",\"type\":\"Toolbar\"},{\"attributes\":{\"children\":[{\"id\":\"1390\"},{\"id\":\"1402\"},{\"id\":\"1492\"}],\"margin\":[0,0,0,0],\"name\":\"Row01953\",\"tags\":[\"embedded\"]},\"id\":\"1389\",\"type\":\"Row\"},{\"attributes\":{\"axis_label\":\"x\",\"coordinates\":null,\"formatter\":{\"id\":\"1435\"},\"group\":null,\"major_label_policy\":{\"id\":\"1440\"},\"ticker\":{\"id\":\"1434\"}},\"id\":\"1411\",\"type\":\"LinearAxis\"},{\"attributes\":{\"dimension\":\"lat\"},\"id\":\"1436\",\"type\":\"MercatorTicker\"},{\"attributes\":{\"margin\":[5,5,5,5],\"name\":\"HSpacer01957\",\"sizing_mode\":\"stretch_width\"},\"id\":\"1390\",\"type\":\"Spacer\"},{\"attributes\":{\"dimension\":\"lon\"},\"id\":\"1434\",\"type\":\"MercatorTicker\"},{\"attributes\":{},\"id\":\"1440\",\"type\":\"AllLabels\"},{\"attributes\":{\"end\":22954407.822650976,\"min_interval\":5,\"reset_end\":22954407.822650976,\"reset_start\":-22937709.89903198,\"start\":-22937709.89903198,\"tags\":[[[\"Lng\",\"Lng\",null]]]},\"id\":\"1395\",\"type\":\"Range1d\"},{\"attributes\":{},\"id\":\"1479\",\"type\":\"UnionRenderers\"},{\"attributes\":{\"label\":{\"field\":\"color\"},\"renderers\":[{\"id\":\"1474\"}]},\"id\":\"1483\",\"type\":\"LegendItem\"},{\"attributes\":{},\"id\":\"1407\",\"type\":\"LinearScale\"},{\"attributes\":{\"fill_alpha\":{\"value\":0.2},\"fill_color\":{\"field\":\"color\",\"transform\":{\"id\":\"1465\"}},\"hatch_alpha\":{\"value\":0.2},\"hatch_color\":{\"field\":\"color\",\"transform\":{\"id\":\"1465\"}},\"line_alpha\":{\"value\":0.2},\"line_color\":{\"field\":\"color\",\"transform\":{\"id\":\"1465\"}},\"size\":{\"field\":\"size\"},\"x\":{\"field\":\"Lng\"},\"y\":{\"field\":\"Lat\"}},\"id\":\"1473\",\"type\":\"Scatter\"},{\"attributes\":{\"click_policy\":\"mute\",\"coordinates\":null,\"group\":null,\"items\":[{\"id\":\"1483\"}],\"location\":[0,0]},\"id\":\"1482\",\"type\":\"Legend\"},{\"attributes\":{\"fill_color\":{\"field\":\"color\",\"transform\":{\"id\":\"1465\"}},\"hatch_color\":{\"field\":\"color\",\"transform\":{\"id\":\"1465\"}},\"line_color\":{\"field\":\"color\",\"transform\":{\"id\":\"1465\"}},\"size\":{\"field\":\"size\"},\"x\":{\"field\":\"Lng\"},\"y\":{\"field\":\"Lat\"}},\"id\":\"1471\",\"type\":\"Scatter\"},{\"attributes\":{},\"id\":\"1419\",\"type\":\"SaveTool\"},{\"attributes\":{\"below\":[{\"id\":\"1411\"}],\"center\":[{\"id\":\"1414\"},{\"id\":\"1418\"}],\"frame_height\":600,\"frame_width\":800,\"height\":null,\"left\":[{\"id\":\"1415\"}],\"margin\":[5,5,5,5],\"match_aspect\":true,\"min_border_bottom\":10,\"min_border_left\":10,\"min_border_right\":10,\"min_border_top\":10,\"renderers\":[{\"id\":\"1463\"},{\"id\":\"1474\"}],\"right\":[{\"id\":\"1482\"}],\"sizing_mode\":\"fixed\",\"title\":{\"id\":\"1403\"},\"toolbar\":{\"id\":\"1425\"},\"width\":null,\"x_range\":{\"id\":\"1395\"},\"x_scale\":{\"id\":\"1407\"},\"y_range\":{\"id\":\"1396\"},\"y_scale\":{\"id\":\"1409\"}},\"id\":\"1402\",\"subtype\":\"Figure\",\"type\":\"Plot\"},{\"attributes\":{},\"id\":\"1447\",\"type\":\"AllLabels\"},{\"attributes\":{\"factors\":[\"ribeira grande\",\"port alfred\",\"ushuaia\",\"san pedro\",\"hasaki\",\"georgetown\",\"semirara\",\"carnarvon\",\"salinopolis\",\"simplicio mendes\",\"sulangan\",\"rikitea\",\"adrar\",\"port hardy\",\"dingle\",\"lusambo\",\"castro\",\"asosa\",\"barrow\",\"saint-philippe\",\"atuona\",\"bathsheba\",\"la palma\",\"punta arenas\",\"hobart\",\"tautira\",\"monrovia\",\"gorontalo\",\"iqaluit\",\"mar del plata\",\"raymond\",\"san cristobal\",\"pevek\",\"baruun-urt\",\"lennestadt\",\"eirunepe\",\"poronaysk\",\"puerto ayora\",\"corning\",\"nisia floresta\",\"longyearbyen\",\"eldorado\",\"mataura\",\"avera\",\"santona\",\"namatanai\",\"koraput\",\"kapaa\",\"warman\",\"butaritari\",\"jamestown\",\"mumford\",\"cherskiy\",\"albany\",\"talnakh\",\"pisco\",\"hermanus\",\"ust-uda\",\"kachug\",\"codrington\",\"santa rosa\",\"hithadhoo\",\"nuuk\",\"japura\",\"busselton\",\"hervey bay\",\"coihaique\",\"fort nelson\",\"caravelas\",\"mae hong son\",\"pilar\",\"upernavik\",\"guerrero negro\",\"mecca\",\"saskylakh\",\"rocha\",\"zyryanka\",\"chimore\",\"usinsk\",\"hilo\",\"hambantota\",\"ixtapa\",\"cape town\",\"cidreira\",\"college\",\"san quintin\",\"inhambane\",\"akcakoca\",\"pangnirtung\",\"lompoc\",\"avarua\",\"sorsk\",\"port blair\",\"vardo\",\"imbituba\",\"rio gallegos\",\"pokrovsk\",\"kodiak\",\"valjevo\",\"trelew\",\"faanui\",\"kavieng\",\"nikolskoye\",\"souillac\",\"kattivakkam\",\"coahuayana\",\"novyye burasy\",\"mayya\",\"yuli\",\"mackenzie\",\"laguna\",\"angouleme\",\"pathein\",\"the valley\",\"katsuura\",\"mount gambier\",\"bluff\",\"mahibadhoo\",\"vaini\",\"chuy\",\"dioknisi\",\"goba\",\"kavaratti\",\"bay roberts\",\"klaksvik\",\"zhezkazgan\",\"los llanos de aridane\",\"ibra\",\"menongue\",\"sterling\",\"lata\",\"kinel\",\"vallenar\",\"boa vista\",\"lasa\",\"langsa\",\"pingdu\",\"fortuna\",\"bilibino\",\"husavik\",\"luganville\",\"paamiut\",\"zhigansk\",\"tasiilaq\",\"vao\",\"nizhniy chir\",\"yellowknife\",\"bambous virieux\",\"marzuq\",\"qaanaaq\",\"amapa\",\"russkaya polyana\",\"coquimbo\",\"mogadishu\",\"kununurra\",\"waitara\",\"telbang\",\"geraldton\",\"flinders\",\"pochutla\",\"carutapera\",\"rawson\",\"new norfolk\",\"ponta do sol\",\"bethel\",\"port hedland\",\"jizan\",\"jais\",\"ferkessedougou\",\"airai\",\"mareeba\",\"lavrentiya\",\"ust-nera\",\"atasu\",\"lamu\",\"port lincoln\",\"totma\",\"puerto escondido\",\"dikson\",\"lebu\",\"ketchikan\",\"bredasdorp\",\"athabasca\",\"arkhangelsk\",\"aklavik\",\"maniitsoq\",\"vostok\",\"bulgan\",\"rennes\",\"cocorit\",\"khatanga\",\"nieuw amsterdam\",\"necochea\",\"yuanping\",\"praya\",\"nantucket\",\"penzance\",\"provideniya\",\"boddam\",\"upington\",\"makakilo city\",\"koutiala\",\"havelock\",\"severo-kurilsk\",\"manado\",\"mabaruma\",\"saint george\",\"yulara\",\"honiara\",\"lagoa\",\"ancud\",\"bengkulu\",\"guhagar\",\"toccoa\",\"viransehir\",\"egvekinot\",\"ginir\",\"darhan\",\"torbay\",\"san ramon de la nueva oran\",\"kodinar\",\"dunedin\",\"frankfort\",\"valle de allende\",\"wegrow\",\"haines junction\",\"porto walter\",\"staryy nadym\",\"naron\",\"port macquarie\",\"marsa matruh\",\"ternate\",\"utkivka\",\"great yarmouth\",\"amravati\",\"arraial do cabo\",\"isangel\",\"saint anthony\",\"clyde river\",\"kemin\",\"chokurdakh\",\"albolote\",\"jacareacanga\",\"beloha\",\"tiksi\",\"kyra\",\"gat\",\"tuktoyaktuk\",\"kaitangata\",\"sawakin\",\"quepos\",\"kautokeino\",\"kahului\",\"toma\",\"plettenberg bay\",\"cabo san lucas\",\"sao filipe\",\"vagamo\",\"lazaro cardenas\",\"saldanha\",\"tuatapere\",\"bud\",\"thompson\",\"port elizabeth\",\"anaconda\",\"omama\",\"trapani\",\"kulhudhuffushi\",\"asau\",\"santa cruz\",\"kiunga\",\"weston\",\"cockburn town\",\"margate\",\"fairbanks\",\"ostrovnoy\",\"broken hill\",\"tagusao\",\"tarauaca\",\"kloulklubed\",\"tessalit\",\"korla\",\"atar\",\"sayyan\",\"chemax\",\"esperance\",\"ravar\",\"niquero\",\"bereda\",\"san patricio\",\"sinnamary\",\"san luis\",\"sao joao da barra\",\"east london\",\"asfi\",\"glendive\",\"vestmannaeyjar\",\"turuvekere\",\"faqirwali\",\"harper\",\"muli\",\"luwuk\",\"penha\",\"princeton\",\"taveta\",\"mao\",\"alexandria\",\"berlevag\",\"jalpan\",\"anadyr\",\"jumla\",\"leningradskiy\",\"nemuro\",\"dogondoutchi\",\"lorengau\",\"bang rakam\",\"muros\",\"beringovskiy\",\"hobyo\",\"te anau\",\"krasnoselkup\",\"victoria\",\"mocuba\",\"soe\",\"maiduguri\",\"qixingtai\",\"mobaye\",\"tres arroyos\",\"roanoke rapids\",\"maldonado\",\"villa bruzual\",\"olinda\",\"agadir\",\"baie-comeau\",\"gamba\",\"serebryansk\",\"naze\",\"mahebourg\",\"umuahia\",\"alofi\",\"phonhong\",\"eyl\",\"sidi ali\",\"byron bay\",\"olafsvik\",\"norman wells\",\"rock sound\",\"seoul\",\"ozinki\",\"oistins\",\"sao felix do xingu\",\"vila franca do campo\",\"benghazi\",\"plouzane\",\"ingham\",\"muzhi\",\"tigil\",\"chabahar\",\"yumen\",\"auburn\",\"sur\",\"termoli\",\"leshukonskoye\",\"trairi\",\"lebedyn\",\"moron\",\"ambatolampy\",\"yaan\",\"guiratinga\",\"sakakah\",\"alyangula\",\"mayo\",\"dong hoi\",\"magdagachi\",\"termiz\",\"lodja\",\"arrecife\",\"isoka\",\"neftekamsk\",\"san ramon\",\"faya\",\"north bend\",\"tarakan\",\"halifax\",\"azul\",\"chinhoyi\",\"shimoda\",\"samarai\",\"alibag\",\"inirida\",\"aktau\",\"quzhou\",\"rehnan\",\"puerto leguizamo\",\"albanel\",\"matara\",\"cabra\",\"rabo de peixe\",\"fereydun kenar\",\"kruisfontein\",\"el cobre\",\"manta\",\"bilma\",\"seminole\",\"paita\",\"beberibe\",\"yeppoon\",\"narsaq\",\"constitucion\",\"berdigestyakh\",\"alice springs\",\"ulladulla\",\"chase\",\"massaguet\",\"sisimiut\",\"betamcherla\",\"broome\",\"vigrestad\",\"mount isa\",\"dzaoudzi\",\"yakeshi\",\"homer\",\"tiarei\",\"vanimo\",\"nenjiang\",\"cururupu\",\"valdivia\",\"la ronge\",\"nioro\",\"jiazi\",\"acambaro\",\"male\",\"ngunguru\",\"rajpipla\",\"dicabisagan\",\"kismayo\",\"zhuhai\",\"nezhinka\",\"santiago del estero\",\"tromso\",\"mercedes\",\"poum\",\"pacific grove\",\"saint-joseph\",\"dingli\",\"praia da vitoria\",\"newton\",\"noumea\",\"salalah\",\"garchitorena\",\"hofn\",\"itarema\",\"saint-augustin\",\"rudbar\",\"taoudenni\",\"balad\",\"meulaboh\",\"abalak\",\"ambilobe\",\"lethem\",\"semarang\",\"erenhot\",\"brignais\",\"komadi\",\"chancay\",\"stornoway\",\"ilulissat\",\"mudanjiang\",\"portland\",\"antalaha\",\"aloleng\",\"boueni\",\"witu\",\"pundaguitan\",\"berezhany\",\"aksaray\",\"palmer\",\"waitati\",\"waingapu\",\"makat\",\"qasigiannguit\",\"takaka\",\"havoysund\",\"mehran\",\"itumba\",\"quirinopolis\",\"jiuquan\",\"lodwar\",\"tevaitoa\",\"surt\",\"morehead\",\"sindor\",\"kerkini\",\"jatai\",\"denpasar\",\"dakar\",\"neepawa\",\"pietarsaari\",\"katobu\",\"puri\",\"muisne\",\"batagay-alyta\",\"bandarbeyla\",\"sungaipenuh\",\"arlit\",\"hami\",\"wewak\",\"acapulco\",\"denham springs\",\"new london\",\"hasilpur\",\"sitka\",\"lakes entrance\",\"otrado-olginskoye\",\"kushiro\",\"rozhyshche\",\"quelimane\",\"kalakamati\",\"kirakira\",\"yeniseysk\",\"maple creek\",\"srednekolymsk\",\"alcantara\",\"planaltina\",\"moindou\",\"san juan pueblo\",\"havre-saint-pierre\",\"khorramshahr\",\"yei\",\"mehamn\",\"arman\",\"puerto del rosario\",\"betanzos\",\"hegang\",\"taksimo\",\"tsiroanomandidy\",\"kilindoni\",\"ati\",\"inuvik\",\"chipinge\",\"ewa beach\",\"florence\",\"thunder bay\",\"gwanda\",\"ambovombe\",\"big rapids\",\"derzhavinsk\",\"campbellton\",\"morro bay\",\"camalu\",\"khumalag\",\"barao de melgaco\",\"ucluelet\",\"hovd\",\"can tho\",\"vila do maio\",\"chicama\"],\"palette\":[\"#1f77b3\",\"#ff7e0e\",\"#2ba02b\",\"#d62628\",\"#9367bc\",\"#8c564b\",\"#e277c1\",\"#7e7e7e\",\"#bcbc21\",\"#16bdcf\",\"#3a0182\",\"#004201\",\"#0fffa8\",\"#5d003f\",\"#bcbcff\",\"#d8afa1\",\"#b80080\",\"#004d52\",\"#6b6400\",\"#7c0100\",\"#6026ff\",\"#ffff9a\",\"#564964\",\"#8cb893\",\"#93fbff\",\"#018267\",\"#90ff00\",\"#8200a0\",\"#ac8944\",\"#5b3400\",\"#ffbff2\",\"#ff6e75\",\"#798cff\",\"#dd00ff\",\"#505646\",\"#004489\",\"#ffbf60\",\"#ff018c\",\"#bdc8cf\",\"#af97b5\",\"#b65600\",\"#017000\",\"#cd87ff\",\"#1cd646\",\"#bfebc3\",\"#7997b5\",\"#a56089\",\"#6e8956\",\"#bc7c75\",\"#8a2844\",\"#00acff\",\"#8ed4ff\",\"#4b6d77\",\"#00d4b1\",\"#9300f2\",\"#8a9500\",\"#5d5b9e\",\"#fddfba\",\"#00939e\",\"#ffdb00\",\"#00aa79\",\"#520067\",\"#000091\",\"#0a5d3d\",\"#a5e275\",\"#623b41\",\"#c6c689\",\"#ff9eb5\",\"#cd4f6b\",\"#ff07d6\",\"#8a3a05\",\"#7e3d70\",\"#ff4901\",\"#602ba5\",\"#1c00ff\",\"#e6dfff\",\"#aa3baf\",\"#d89c00\",\"#a3a39e\",\"#3f69ff\",\"#46490c\",\"#7b6985\",\"#6b978c\",\"#ff9a75\",\"#835bff\",\"#7c6b46\",\"#80b654\",\"#bc0049\",\"#fd93ff\",\"#5d0018\",\"#89d1d1\",\"#9c8cd3\",\"#da6d42\",\"#8a5700\",\"#3b5069\",\"#4b6b3b\",\"#edcfd8\",\"#cfedff\",\"#aa1500\",\"#dfff4f\",\"#ff2a56\",\"#d1499e\",\"#707cb8\",\"#598000\",\"#00e4fd\",\"#774b95\",\"#67d48c\",\"#3d3a72\",\"#ac413f\",\"#d6a166\",\"#c169cd\",\"#69595d\",\"#87aced\",\"#a0a569\",\"#d1aae6\",\"#870062\",\"#00fddb\",\"#672818\",\"#b342ff\",\"#0e59c4\",\"#168742\",\"#90d300\",\"#cd7900\",\"#f959ff\",\"#5b7466\",\"#8eaeb3\",\"#9c7c8c\",\"#4600c6\",\"#6b4d2d\",\"#a56d46\",\"#9e8972\",\"#a8afca\",\"#cd8ca7\",\"#00fd64\",\"#917900\",\"#ff62a1\",\"#f4ffd8\",\"#018cf0\",\"#13aca0\",\"#5b2d59\",\"#89859e\",\"#cfccba\",\"#d4afc4\",\"#dbdd6d\",\"#cffff4\",\"#006485\",\"#006962\",\"#a84167\",\"#2d97c4\",\"#a874ff\",\"#26ba5d\",\"#57b600\",\"#caffa7\",\"#a379aa\",\"#ffbc93\",\"#89e2c1\",\"#0fc8ff\",\"#d400c4\",\"#626d89\",\"#69858e\",\"#4b4d52\",\"#aa6067\",\"#79b5d4\",\"#2b5916\",\"#9a0024\",\"#bdd1f2\",\"#896e67\",\"#69a56b\",\"#855467\",\"#aecdba\",\"#87997e\",\"#cadb00\",\"#9a0390\",\"#ebbc1a\",\"#eb9cd1\",\"#70006e\",\"#b1a131\",\"#ca6b93\",\"#4146a3\",\"#e48c89\",\"#d44400\",\"#c68aca\",\"#b69597\",\"#d41f75\",\"#724bcc\",\"#674d00\",\"#672138\",\"#38564f\",\"#6ebaaa\",\"#853a31\",\"#a5d397\",\"#b8af8e\",\"#d8e4df\",\"#aa00df\",\"#cac1db\",\"#ffdf8c\",\"#e2524d\",\"#66696e\",\"#ff001c\",\"#522d72\",\"#4d906b\",\"#a86d11\",\"#ff9e26\",\"#5ea3af\",\"#c88556\",\"#915997\",\"#a3a1ff\",\"#fdbaba\",\"#242a87\",\"#dbe6a8\",\"#97f2a7\",\"#6793d6\",\"#ba5b3f\",\"#3a5d91\",\"#364f2f\",\"#267c95\",\"#89959a\",\"#cfb356\",\"#004664\",\"#5e5d2f\",\"#8e8e41\",\"#ac3f13\",\"#69953b\",\"#a13d85\",\"#bfb6ba\",\"#acc667\",\"#6469cf\",\"#91af00\",\"#2be2da\",\"#016e36\",\"#ff7952\",\"#42807e\",\"#4fe800\",\"#995428\",\"#5d0a00\",\"#a30057\",\"#0c8700\",\"#5982a7\",\"#ffebfb\",\"#4b6901\",\"#8775d4\",\"#e6c6ff\",\"#a5ffda\",\"#d86e77\",\"#df014b\",\"#69675b\",\"#776ba1\",\"#7e8067\",\"#594685\",\"#0000ca\",\"#7c002a\",\"#97ff72\",\"#b5e2e1\",\"#db52c8\",\"#777734\",\"#57bd8e\",\"#1f77b3\",\"#ff7e0e\",\"#2ba02b\",\"#d62628\",\"#9367bc\",\"#8c564b\",\"#e277c1\",\"#7e7e7e\",\"#bcbc21\",\"#16bdcf\",\"#3a0182\",\"#004201\",\"#0fffa8\",\"#5d003f\",\"#bcbcff\",\"#d8afa1\",\"#b80080\",\"#004d52\",\"#6b6400\",\"#7c0100\",\"#6026ff\",\"#ffff9a\",\"#564964\",\"#8cb893\",\"#93fbff\",\"#018267\",\"#90ff00\",\"#8200a0\",\"#ac8944\",\"#5b3400\",\"#ffbff2\",\"#ff6e75\",\"#798cff\",\"#dd00ff\",\"#505646\",\"#004489\",\"#ffbf60\",\"#ff018c\",\"#bdc8cf\",\"#af97b5\",\"#b65600\",\"#017000\",\"#cd87ff\",\"#1cd646\",\"#bfebc3\",\"#7997b5\",\"#a56089\",\"#6e8956\",\"#bc7c75\",\"#8a2844\",\"#00acff\",\"#8ed4ff\",\"#4b6d77\",\"#00d4b1\",\"#9300f2\",\"#8a9500\",\"#5d5b9e\",\"#fddfba\",\"#00939e\",\"#ffdb00\",\"#00aa79\",\"#520067\",\"#000091\",\"#0a5d3d\",\"#a5e275\",\"#623b41\",\"#c6c689\",\"#ff9eb5\",\"#cd4f6b\",\"#ff07d6\",\"#8a3a05\",\"#7e3d70\",\"#ff4901\",\"#602ba5\",\"#1c00ff\",\"#e6dfff\",\"#aa3baf\",\"#d89c00\",\"#a3a39e\",\"#3f69ff\",\"#46490c\",\"#7b6985\",\"#6b978c\",\"#ff9a75\",\"#835bff\",\"#7c6b46\",\"#80b654\",\"#bc0049\",\"#fd93ff\",\"#5d0018\",\"#89d1d1\",\"#9c8cd3\",\"#da6d42\",\"#8a5700\",\"#3b5069\",\"#4b6b3b\",\"#edcfd8\",\"#cfedff\",\"#aa1500\",\"#dfff4f\",\"#ff2a56\",\"#d1499e\",\"#707cb8\",\"#598000\",\"#00e4fd\",\"#774b95\",\"#67d48c\",\"#3d3a72\",\"#ac413f\",\"#d6a166\",\"#c169cd\",\"#69595d\",\"#87aced\",\"#a0a569\",\"#d1aae6\",\"#870062\",\"#00fddb\",\"#672818\",\"#b342ff\",\"#0e59c4\",\"#168742\",\"#90d300\",\"#cd7900\",\"#f959ff\",\"#5b7466\",\"#8eaeb3\",\"#9c7c8c\",\"#4600c6\",\"#6b4d2d\",\"#a56d46\",\"#9e8972\",\"#a8afca\",\"#cd8ca7\",\"#00fd64\",\"#917900\",\"#ff62a1\",\"#f4ffd8\",\"#018cf0\",\"#13aca0\",\"#5b2d59\",\"#89859e\",\"#cfccba\",\"#d4afc4\",\"#dbdd6d\",\"#cffff4\",\"#006485\",\"#006962\",\"#a84167\",\"#2d97c4\",\"#a874ff\",\"#26ba5d\",\"#57b600\",\"#caffa7\",\"#a379aa\",\"#ffbc93\",\"#89e2c1\",\"#0fc8ff\",\"#d400c4\",\"#626d89\",\"#69858e\",\"#4b4d52\",\"#aa6067\",\"#79b5d4\",\"#2b5916\",\"#9a0024\",\"#bdd1f2\",\"#896e67\",\"#69a56b\",\"#855467\",\"#aecdba\",\"#87997e\",\"#cadb00\",\"#9a0390\",\"#ebbc1a\",\"#eb9cd1\",\"#70006e\",\"#b1a131\",\"#ca6b93\",\"#4146a3\",\"#e48c89\",\"#d44400\",\"#c68aca\",\"#b69597\",\"#d41f75\",\"#724bcc\",\"#674d00\",\"#672138\",\"#38564f\",\"#6ebaaa\",\"#853a31\",\"#a5d397\",\"#b8af8e\",\"#d8e4df\",\"#aa00df\",\"#cac1db\",\"#ffdf8c\",\"#e2524d\",\"#66696e\",\"#ff001c\",\"#522d72\",\"#4d906b\",\"#a86d11\",\"#ff9e26\",\"#5ea3af\",\"#c88556\",\"#915997\",\"#a3a1ff\",\"#fdbaba\",\"#242a87\",\"#dbe6a8\",\"#97f2a7\",\"#6793d6\",\"#ba5b3f\",\"#3a5d91\",\"#364f2f\",\"#267c95\",\"#89959a\",\"#cfb356\",\"#004664\",\"#5e5d2f\",\"#8e8e41\",\"#ac3f13\",\"#69953b\",\"#a13d85\",\"#bfb6ba\",\"#acc667\",\"#6469cf\",\"#91af00\",\"#2be2da\",\"#016e36\",\"#ff7952\",\"#42807e\",\"#4fe800\",\"#995428\",\"#5d0a00\",\"#a30057\",\"#0c8700\",\"#5982a7\",\"#ffebfb\",\"#4b6901\",\"#8775d4\",\"#e6c6ff\",\"#a5ffda\",\"#d86e77\",\"#df014b\",\"#69675b\",\"#776ba1\",\"#7e8067\",\"#594685\",\"#0000ca\",\"#7c002a\",\"#97ff72\",\"#b5e2e1\",\"#db52c8\",\"#777734\",\"#57bd8e\",\"#1f77b3\",\"#ff7e0e\",\"#2ba02b\",\"#d62628\",\"#9367bc\",\"#8c564b\",\"#e277c1\",\"#7e7e7e\",\"#bcbc21\",\"#16bdcf\",\"#3a0182\",\"#004201\",\"#0fffa8\",\"#5d003f\",\"#bcbcff\",\"#d8afa1\",\"#b80080\",\"#004d52\",\"#6b6400\",\"#7c0100\",\"#6026ff\",\"#ffff9a\",\"#564964\",\"#8cb893\",\"#93fbff\",\"#018267\",\"#90ff00\",\"#8200a0\",\"#ac8944\",\"#5b3400\",\"#ffbff2\",\"#ff6e75\",\"#798cff\",\"#dd00ff\",\"#505646\",\"#004489\",\"#ffbf60\",\"#ff018c\",\"#bdc8cf\",\"#af97b5\",\"#b65600\",\"#017000\",\"#cd87ff\",\"#1cd646\",\"#bfebc3\"]},\"id\":\"1465\",\"type\":\"CategoricalColorMapper\"},{\"attributes\":{\"code\":\"\\n        var projections = Bokeh.require(\\\"core/util/projections\\\");\\n        var x = special_vars.data_x\\n        var y = special_vars.data_y\\n        var coords = projections.wgs84_mercator.invert(x, y)\\n        return \\\"\\\" + (coords[1]).toFixed(4)\\n    \"},\"id\":\"1485\",\"type\":\"CustomJSHover\"},{\"attributes\":{\"axis\":{\"id\":\"1411\"},\"coordinates\":null,\"grid_line_color\":null,\"group\":null,\"ticker\":null},\"id\":\"1414\",\"type\":\"Grid\"},{\"attributes\":{},\"id\":\"1409\",\"type\":\"LinearScale\"},{\"attributes\":{\"end\":20791365.665228847,\"min_interval\":5,\"reset_end\":20791365.665228847,\"reset_start\":-13627722.626033377,\"start\":-13627722.626033377,\"tags\":[[[\"Lat\",\"Lat\",null]]]},\"id\":\"1396\",\"type\":\"Range1d\"},{\"attributes\":{\"callback\":null,\"formatters\":{\"$x\":{\"id\":\"1484\"},\"$y\":{\"id\":\"1485\"}},\"renderers\":[{\"id\":\"1474\"}],\"tags\":[\"hv_created\"],\"tooltips\":[[\"Lng\",\"$x{custom}\"],[\"Lat\",\"$y{custom}\"],[\"City\",\"@{City}\"],[\"Humidity\",\"@{Humidity}\"]]},\"id\":\"1399\",\"type\":\"HoverTool\"},{\"attributes\":{},\"id\":\"1420\",\"type\":\"PanTool\"}],\"root_ids\":[\"1389\"]},\"title\":\"Bokeh Application\",\"version\":\"2.4.3\"}};\n",
       "    var render_items = [{\"docid\":\"389364b0-f589-4f70-81fc-882fcb0778b3\",\"root_ids\":[\"1389\"],\"roots\":{\"1389\":\"64a509fd-5ea4-453d-919f-9a8eef75de47\"}}];\n",
       "    root.Bokeh.embed.embed_items_notebook(docs_json, render_items);\n",
       "  }\n",
       "  if (root.Bokeh !== undefined && root.Bokeh.Panel !== undefined) {\n",
       "    embed_document(root);\n",
       "  } else {\n",
       "    var attempts = 0;\n",
       "    var timer = setInterval(function(root) {\n",
       "      if (root.Bokeh !== undefined && root.Bokeh.Panel !== undefined) {\n",
       "        clearInterval(timer);\n",
       "        embed_document(root);\n",
       "      } else if (document.readyState == \"complete\") {\n",
       "        attempts++;\n",
       "        if (attempts > 200) {\n",
       "          clearInterval(timer);\n",
       "          console.log(\"Bokeh: ERROR: Unable to run BokehJS code because BokehJS library is missing\");\n",
       "        }\n",
       "      }\n",
       "    }, 25, root)\n",
       "  }\n",
       "})(window);</script>"
      ],
      "text/plain": [
       ":Overlay\n",
       "   .Tiles.I  :Tiles   [x,y]\n",
       "   .Points.I :Points   [Lng,Lat]   (City,Humidity)"
      ]
     },
     "execution_count": 49,
     "metadata": {
      "application/vnd.holoviews_exec.v0+json": {
       "id": "1389"
      }
     },
     "output_type": "execute_result"
    }
   ],
   "source": [
    "%%capture --no-display\n",
    "\n",
    "# Configure the map plot\n",
    "#geoapify.configure(api_key=geoapify_key)\n",
    "city_data_df[\"Humidity\"].max()\n",
    "\n",
    "# Display the map\n",
    "map_plot_1 = city_data_df.hvplot.points(\n",
    "    \"Lng\",\n",
    "    \"Lat\",\n",
    "    geo = True,\n",
    "    tiles = \"OSM\",\n",
    "    frame_width = 800,\n",
    "    frame_height = 600,\n",
    "    size = \"Humidity\",\n",
    "    color = \"City\"\n",
    ")\n",
    "\n",
    "# Display the map plot\n",
    "map_plot_1\n",
    "\n",
    "# Display the map plot"
   ]
  },
  {
   "cell_type": "markdown",
   "metadata": {},
   "source": [
    "### Step 2: Narrow down the `city_data_df` DataFrame to find your ideal weather condition"
   ]
  },
  {
   "cell_type": "code",
   "execution_count": 52,
   "metadata": {},
   "outputs": [
    {
     "data": {
      "text/html": [
       "<div>\n",
       "<style scoped>\n",
       "    .dataframe tbody tr th:only-of-type {\n",
       "        vertical-align: middle;\n",
       "    }\n",
       "\n",
       "    .dataframe tbody tr th {\n",
       "        vertical-align: top;\n",
       "    }\n",
       "\n",
       "    .dataframe thead th {\n",
       "        text-align: right;\n",
       "    }\n",
       "</style>\n",
       "<table border=\"1\" class=\"dataframe\">\n",
       "  <thead>\n",
       "    <tr style=\"text-align: right;\">\n",
       "      <th></th>\n",
       "      <th>City_ID</th>\n",
       "      <th>City</th>\n",
       "      <th>Lat</th>\n",
       "      <th>Lng</th>\n",
       "      <th>Max Temp</th>\n",
       "      <th>Humidity</th>\n",
       "      <th>Cloudiness</th>\n",
       "      <th>Wind Speed</th>\n",
       "      <th>Country</th>\n",
       "      <th>Date</th>\n",
       "    </tr>\n",
       "  </thead>\n",
       "  <tbody>\n",
       "  </tbody>\n",
       "</table>\n",
       "</div>"
      ],
      "text/plain": [
       "Empty DataFrame\n",
       "Columns: [City_ID, City, Lat, Lng, Max Temp, Humidity, Cloudiness, Wind Speed, Country, Date]\n",
       "Index: []"
      ]
     },
     "execution_count": 52,
     "metadata": {},
     "output_type": "execute_result"
    }
   ],
   "source": [
    "# Narrow down cities that fit criteria and drop any results with null values\n",
    "ideal_vacay_weather = city_data_df.loc[(city_data_df['Max Temp'] < 78) & (city_data_df['Max Temp'] > 65) \\\n",
    "                                         & (city_data_df['Humidity'] < 50) \\\n",
    "                                         & (city_data_df['Cloudiness'] < 30) \\\n",
    "                                         & (city_data_df['Wind Speed'] < 15)]\n",
    "\n",
    "# Drop any rows with null values\n",
    "ideal_vacay_weather = ideal_vacay_weather.dropna()\n",
    "ideal_vacay_weather\n"
   ]
  },
  {
   "cell_type": "markdown",
   "metadata": {},
   "source": [
    "### Step 3: Create a new DataFrame called `hotel_df`."
   ]
  },
  {
   "cell_type": "code",
   "execution_count": 54,
   "metadata": {},
   "outputs": [
    {
     "data": {
      "text/html": [
       "<div>\n",
       "<style scoped>\n",
       "    .dataframe tbody tr th:only-of-type {\n",
       "        vertical-align: middle;\n",
       "    }\n",
       "\n",
       "    .dataframe tbody tr th {\n",
       "        vertical-align: top;\n",
       "    }\n",
       "\n",
       "    .dataframe thead th {\n",
       "        text-align: right;\n",
       "    }\n",
       "</style>\n",
       "<table border=\"1\" class=\"dataframe\">\n",
       "  <thead>\n",
       "    <tr style=\"text-align: right;\">\n",
       "      <th></th>\n",
       "      <th>City</th>\n",
       "      <th>Country</th>\n",
       "      <th>Lat</th>\n",
       "      <th>Lng</th>\n",
       "      <th>Hotel Name</th>\n",
       "    </tr>\n",
       "  </thead>\n",
       "  <tbody>\n",
       "  </tbody>\n",
       "</table>\n",
       "</div>"
      ],
      "text/plain": [
       "Empty DataFrame\n",
       "Columns: [City, Country, Lat, Lng, Hotel Name]\n",
       "Index: []"
      ]
     },
     "execution_count": 54,
     "metadata": {},
     "output_type": "execute_result"
    }
   ],
   "source": [
    "# Use the Pandas copy function to create DataFrame called hotel_df to store the city, country, coordinates, and humidity\n",
    "hotel_df = ideal_vacay_weather[['City', 'Country', 'Lat', 'Lng']].copy()\n",
    "\n",
    "\n",
    "# Add an empty column, \"Hotel Name,\" to the DataFrame so you can store the hotel found using the Geoapify API\n",
    "hotel_df['Hotel Name'] = ''\n",
    "hotel_df.head()\n",
    "\n"
   ]
  },
  {
   "cell_type": "markdown",
   "metadata": {},
   "source": [
    "### Step 4: For each city, use the Geoapify API to find the first hotel located within 10,000 metres of your coordinates."
   ]
  },
  {
   "cell_type": "code",
   "execution_count": 56,
   "metadata": {},
   "outputs": [
    {
     "name": "stdout",
     "output_type": "stream",
     "text": [
      "Starting hotel search\n"
     ]
    },
    {
     "data": {
      "text/html": [
       "<div>\n",
       "<style scoped>\n",
       "    .dataframe tbody tr th:only-of-type {\n",
       "        vertical-align: middle;\n",
       "    }\n",
       "\n",
       "    .dataframe tbody tr th {\n",
       "        vertical-align: top;\n",
       "    }\n",
       "\n",
       "    .dataframe thead th {\n",
       "        text-align: right;\n",
       "    }\n",
       "</style>\n",
       "<table border=\"1\" class=\"dataframe\">\n",
       "  <thead>\n",
       "    <tr style=\"text-align: right;\">\n",
       "      <th></th>\n",
       "      <th>City</th>\n",
       "      <th>Country</th>\n",
       "      <th>Lat</th>\n",
       "      <th>Lng</th>\n",
       "      <th>Hotel Name</th>\n",
       "    </tr>\n",
       "  </thead>\n",
       "  <tbody>\n",
       "  </tbody>\n",
       "</table>\n",
       "</div>"
      ],
      "text/plain": [
       "Empty DataFrame\n",
       "Columns: [City, Country, Lat, Lng, Hotel Name]\n",
       "Index: []"
      ]
     },
     "execution_count": 56,
     "metadata": {},
     "output_type": "execute_result"
    }
   ],
   "source": [
    "# Set parameters to search for a hotel\n",
    "radius = 5000\n",
    "params = {\n",
    "    'types': 'lodging',\n",
    "    'key': geoapify_key\n",
    "}\n",
    "\n",
    "# Print a message to follow up the hotel search\n",
    "print(\"Starting hotel search\")\n",
    "\n",
    "# Iterate through the hotel_df DataFrame\n",
    "for index, row in hotel_df.iterrows():\n",
    "    lat = row['Lat']\n",
    "    lng = row['Lng']\n",
    "\n",
    "    params['location'] = f'{lat},{lng}'\n",
    "    \n",
    "    # Add filter and bias parameters with the current city's latitude and longitude to the params dictionary\n",
    "    # params[\"filter\"] = # YOUR CODE HERE\n",
    "    # params[\"bias\"] = # YOUR CODE HERE\n",
    "    \n",
    "    # Set base URL\n",
    "    base_url = \"https://api.geoapify.com/v2/places\"\n",
    "\n",
    "\n",
    "    # Make and API request using the params dictionaty\n",
    "    name_address = requests.get(base_url, params=params)\n",
    "    \n",
    "    # Convert the API response to JSON format\n",
    "    name_address = name_address.json()\n",
    "    \n",
    "    # Grab the first hotel from the results and store the name in the hotel_df DataFrame\n",
    "    try:\n",
    "        hotel_df.loc[index, \"Hotel Name\"] = name_address[\"features\"][0][\"properties\"][\"name\"]\n",
    "    except (KeyError, IndexError):\n",
    "        # If no hotel is found, set the hotel name as \"No hotel found\".\n",
    "        hotel_df.loc[index, \"Hotel Name\"] = \"No hotel found\"\n",
    "        \n",
    "    # Log the search results\n",
    "    print(f\"{hotel_df.loc[index, 'City']} - nearest hotel: {hotel_df.loc[index, 'Hotel Name']}\")\n",
    "\n",
    "# Display sample data\n",
    "hotel_df"
   ]
  },
  {
   "cell_type": "markdown",
   "metadata": {},
   "source": [
    "### Step 5: Add the hotel name and the country as additional information in the hover message for each city in the map."
   ]
  },
  {
   "cell_type": "code",
   "execution_count": null,
   "metadata": {},
   "outputs": [
    {
     "data": {},
     "metadata": {},
     "output_type": "display_data"
    },
    {
     "data": {
      "application/vnd.holoviews_exec.v0+json": "",
      "text/html": [
       "<div id='1139'>\n",
       "  <div class=\"bk-root\" id=\"7b5a7bdc-70f8-4d0f-98b5-94088c2a4292\" data-root-id=\"1139\"></div>\n",
       "</div>\n",
       "<script type=\"application/javascript\">(function(root) {\n",
       "  function embed_document(root) {\n",
       "    var docs_json = {\"c8f53044-6bb6-451a-8ec5-6a7e93149cf2\":{\"defs\":[{\"extends\":null,\"module\":null,\"name\":\"ReactiveHTML1\",\"overrides\":[],\"properties\":[]},{\"extends\":null,\"module\":null,\"name\":\"FlexBox1\",\"overrides\":[],\"properties\":[{\"default\":\"flex-start\",\"kind\":null,\"name\":\"align_content\"},{\"default\":\"flex-start\",\"kind\":null,\"name\":\"align_items\"},{\"default\":\"row\",\"kind\":null,\"name\":\"flex_direction\"},{\"default\":\"wrap\",\"kind\":null,\"name\":\"flex_wrap\"},{\"default\":\"flex-start\",\"kind\":null,\"name\":\"justify_content\"}]},{\"extends\":null,\"module\":null,\"name\":\"GridStack1\",\"overrides\":[],\"properties\":[{\"default\":\"warn\",\"kind\":null,\"name\":\"mode\"},{\"default\":null,\"kind\":null,\"name\":\"ncols\"},{\"default\":null,\"kind\":null,\"name\":\"nrows\"},{\"default\":true,\"kind\":null,\"name\":\"allow_resize\"},{\"default\":true,\"kind\":null,\"name\":\"allow_drag\"},{\"default\":[],\"kind\":null,\"name\":\"state\"}]},{\"extends\":null,\"module\":null,\"name\":\"click1\",\"overrides\":[],\"properties\":[{\"default\":\"\",\"kind\":null,\"name\":\"terminal_output\"},{\"default\":\"\",\"kind\":null,\"name\":\"debug_name\"},{\"default\":0,\"kind\":null,\"name\":\"clears\"}]},{\"extends\":null,\"module\":null,\"name\":\"NotificationAreaBase1\",\"overrides\":[],\"properties\":[{\"default\":\"bottom-right\",\"kind\":null,\"name\":\"position\"},{\"default\":0,\"kind\":null,\"name\":\"_clear\"}]},{\"extends\":null,\"module\":null,\"name\":\"NotificationArea1\",\"overrides\":[],\"properties\":[{\"default\":[],\"kind\":null,\"name\":\"notifications\"},{\"default\":\"bottom-right\",\"kind\":null,\"name\":\"position\"},{\"default\":0,\"kind\":null,\"name\":\"_clear\"},{\"default\":[{\"background\":\"#ffc107\",\"icon\":{\"className\":\"fas fa-exclamation-triangle\",\"color\":\"white\",\"tagName\":\"i\"},\"type\":\"warning\"},{\"background\":\"#007bff\",\"icon\":{\"className\":\"fas fa-info-circle\",\"color\":\"white\",\"tagName\":\"i\"},\"type\":\"info\"}],\"kind\":null,\"name\":\"types\"}]},{\"extends\":null,\"module\":null,\"name\":\"Notification\",\"overrides\":[],\"properties\":[{\"default\":null,\"kind\":null,\"name\":\"background\"},{\"default\":3000,\"kind\":null,\"name\":\"duration\"},{\"default\":null,\"kind\":null,\"name\":\"icon\"},{\"default\":\"\",\"kind\":null,\"name\":\"message\"},{\"default\":null,\"kind\":null,\"name\":\"notification_type\"},{\"default\":false,\"kind\":null,\"name\":\"_destroyed\"}]},{\"extends\":null,\"module\":null,\"name\":\"TemplateActions1\",\"overrides\":[],\"properties\":[{\"default\":0,\"kind\":null,\"name\":\"open_modal\"},{\"default\":0,\"kind\":null,\"name\":\"close_modal\"}]},{\"extends\":null,\"module\":null,\"name\":\"MaterialTemplateActions1\",\"overrides\":[],\"properties\":[{\"default\":0,\"kind\":null,\"name\":\"open_modal\"},{\"default\":0,\"kind\":null,\"name\":\"close_modal\"}]}],\"roots\":{\"references\":[{\"attributes\":{\"dimension\":\"lat\"},\"id\":\"1186\",\"type\":\"MercatorTicker\"},{\"attributes\":{},\"id\":\"1159\",\"type\":\"LinearScale\"},{\"attributes\":{\"data\":{\"City\":[\"kapaa\",\"hilo\",\"banda\",\"makakilo city\",\"kahului\",\"gat\",\"laguna\",\"tikaitnagar\",\"san quintin\",\"santa rosalia\",\"narwar\",\"port hedland\",\"roebourne\",\"saint-francois\",\"capoterra\",\"stolac\",\"guerrero negro\"],\"Country\":[\"US\",\"US\",\"IN\",\"US\",\"US\",\"IL\",\"US\",\"IN\",\"MX\",\"MX\",\"IN\",\"AU\",\"AU\",\"FR\",\"IT\",\"BA\",\"MX\"],\"Hotel_Name\":[\"Pono Kai Resort\",\"Dolphin Bay Hotel\",\"#acnindiafy21\",\"Embassy Suites by Hilton Oahu Kapolei\",\"Maui Seaside Hotel\",\"No hotel found\",\"Holiday Inn Express & Suites\",\"No hotel found\",\"Jardines Hotel\",\"Hotel del Real\",\"No hotel found\",\"The Esplanade Hotel\",\"No hotel found\",\"Chez Lily\",\"Rosa Hotel\",\"Bregava\",\"Plaza sal paraiso\"],\"Humidity\":[84,83,52,81,60,100,79,59,74,56,55,73,65,57,71,68,68],\"Lat\":{\"__ndarray__\":\"3KYbJfY6Q0FhSt/CBhlBQaHNdnPcZEZBfDISjYWQQkGBO86NHydCQb49c55wUkxBP4+IuVeyUUEx0BImVchHQaFOkweBNEtBuNiVoOshSEFNdwQQCo1GQb1Ugi/doEHBUNKFDTUNQsGSVg5GIE5WQTmauSWzG1JBppZPzgZQVEEdIC/c9sNIQQ==\",\"dtype\":\"float64\",\"order\":\"little\",\"shape\":[17]},\"Lng\":{\"__ndarray__\":\"LFRC3+jpcMFo6zu9+XZwwTp/l8GIDmFBw1If7GTIcMEdPZcLe5xwwcrdWoV2hk1BjwXCcgTIacFYODltelJhQT+to958nmjBeJT6+C7XZ8HSQ6aKRYpgQR/EaBW4LGlBiS/zac7eaEHyNLCO7IgaQSpSPWqgei5BpfyDwauAPkFCQkjy0DdowQ==\",\"dtype\":\"float64\",\"order\":\"little\",\"shape\":[17]},\"color\":[\"kapaa\",\"hilo\",\"banda\",\"makakilo city\",\"kahului\",\"gat\",\"laguna\",\"tikaitnagar\",\"san quintin\",\"santa rosalia\",\"narwar\",\"port hedland\",\"roebourne\",\"saint-francois\",\"capoterra\",\"stolac\",\"guerrero negro\"],\"size\":{\"__ndarray__\":\"hR4VuY5UIkAonAXAijgiQPNZYUQr2BxAAAAAAAAAIkDaTk+x3vseQAAAAAAAACRAcLgta8HGIUDbnltFfrkeQE4BN/pjNCFAST9oEeruHUDY4arvL6odQKMUrqiHFiFA0LphP+AfIEBcz1bMBzMeQAb7lU0w2iBAB+2vZg9+IEAH7a9mD34gQA==\",\"dtype\":\"float64\",\"order\":\"little\",\"shape\":[17]}},\"selected\":{\"id\":\"1217\"},\"selection_policy\":{\"id\":\"1229\"}},\"id\":\"1216\",\"type\":\"ColumnDataSource\"},{\"attributes\":{\"bottom_units\":\"screen\",\"coordinates\":null,\"fill_alpha\":0.5,\"fill_color\":\"lightgrey\",\"group\":null,\"left_units\":\"screen\",\"level\":\"overlay\",\"line_alpha\":1.0,\"line_color\":\"black\",\"line_dash\":[4,4],\"line_width\":2,\"right_units\":\"screen\",\"syncable\":false,\"top_units\":\"screen\"},\"id\":\"1174\",\"type\":\"BoxAnnotation\"},{\"attributes\":{\"coordinates\":null,\"group\":null,\"level\":\"glyph\",\"tile_source\":{\"id\":\"1210\"}},\"id\":\"1213\",\"type\":\"TileRenderer\"},{\"attributes\":{\"source\":{\"id\":\"1216\"}},\"id\":\"1225\",\"type\":\"CDSView\"},{\"attributes\":{\"margin\":[5,5,5,5],\"name\":\"HSpacer01686\",\"sizing_mode\":\"stretch_width\"},\"id\":\"1140\",\"type\":\"Spacer\"},{\"attributes\":{\"attribution\":\"&copy; <a href=\\\"https://www.openstreetmap.org/copyright\\\">OpenStreetMap</a> contributors\",\"url\":\"https://c.tile.openstreetmap.org/{Z}/{X}/{Y}.png\"},\"id\":\"1210\",\"type\":\"WMTSTileSource\"},{\"attributes\":{\"coordinates\":null,\"data_source\":{\"id\":\"1216\"},\"glyph\":{\"id\":\"1219\"},\"group\":null,\"hover_glyph\":{\"id\":\"1222\"},\"muted_glyph\":{\"id\":\"1223\"},\"nonselection_glyph\":{\"id\":\"1220\"},\"selection_glyph\":{\"id\":\"1221\"},\"view\":{\"id\":\"1225\"}},\"id\":\"1224\",\"type\":\"GlyphRenderer\"},{\"attributes\":{\"axis\":{\"id\":\"1161\"},\"coordinates\":null,\"grid_line_color\":null,\"group\":null,\"ticker\":null},\"id\":\"1164\",\"type\":\"Grid\"},{\"attributes\":{\"click_policy\":\"mute\",\"coordinates\":null,\"group\":null,\"items\":[{\"id\":\"1233\"}],\"location\":[0,0]},\"id\":\"1232\",\"type\":\"Legend\"},{\"attributes\":{\"axis_label\":\"x\",\"coordinates\":null,\"formatter\":{\"id\":\"1185\"},\"group\":null,\"major_label_policy\":{\"id\":\"1190\"},\"ticker\":{\"id\":\"1184\"}},\"id\":\"1161\",\"type\":\"LinearAxis\"},{\"attributes\":{\"fill_alpha\":{\"value\":0.5},\"fill_color\":{\"field\":\"color\",\"transform\":{\"id\":\"1215\"}},\"hatch_alpha\":{\"value\":0.5},\"hatch_color\":{\"field\":\"color\",\"transform\":{\"id\":\"1215\"}},\"line_alpha\":{\"value\":0.5},\"line_color\":{\"field\":\"color\",\"transform\":{\"id\":\"1215\"}},\"size\":{\"field\":\"size\"},\"x\":{\"field\":\"Lng\"},\"y\":{\"field\":\"Lat\"}},\"id\":\"1222\",\"type\":\"Scatter\"},{\"attributes\":{\"zoom_on_axis\":false},\"id\":\"1171\",\"type\":\"WheelZoomTool\"},{\"attributes\":{},\"id\":\"1217\",\"type\":\"Selection\"},{\"attributes\":{},\"id\":\"1229\",\"type\":\"UnionRenderers\"},{\"attributes\":{},\"id\":\"1170\",\"type\":\"PanTool\"},{\"attributes\":{},\"id\":\"1157\",\"type\":\"LinearScale\"},{\"attributes\":{\"coordinates\":null,\"group\":null,\"text_color\":\"black\",\"text_font_size\":\"12pt\"},\"id\":\"1153\",\"type\":\"Title\"},{\"attributes\":{\"code\":\"\\n        var projections = Bokeh.require(\\\"core/util/projections\\\");\\n        var x = special_vars.data_x\\n        var y = special_vars.data_y\\n        if (projections.wgs84_mercator.invert == null) {\\n          var coords = projections.wgs84_mercator.inverse([x, y])\\n        } else {\\n          var coords = projections.wgs84_mercator.invert(x, y)\\n        }\\n        return \\\"\\\" + (coords[1]).toFixed(4)\\n    \"},\"id\":\"1235\",\"type\":\"CustomJSHover\"},{\"attributes\":{\"fill_alpha\":{\"value\":0.5},\"fill_color\":{\"field\":\"color\",\"transform\":{\"id\":\"1215\"}},\"hatch_alpha\":{\"value\":0.5},\"hatch_color\":{\"field\":\"color\",\"transform\":{\"id\":\"1215\"}},\"line_alpha\":{\"value\":0.5},\"line_color\":{\"field\":\"color\",\"transform\":{\"id\":\"1215\"}},\"size\":{\"field\":\"size\"},\"x\":{\"field\":\"Lng\"},\"y\":{\"field\":\"Lat\"}},\"id\":\"1219\",\"type\":\"Scatter\"},{\"attributes\":{\"children\":[{\"id\":\"1140\"},{\"id\":\"1152\"},{\"id\":\"1242\"}],\"margin\":[0,0,0,0],\"name\":\"Row01682\",\"tags\":[\"embedded\"]},\"id\":\"1139\",\"type\":\"Row\"},{\"attributes\":{\"callback\":null,\"formatters\":{\"$x\":{\"id\":\"1234\"},\"$y\":{\"id\":\"1235\"}},\"renderers\":[{\"id\":\"1224\"}],\"tags\":[\"hv_created\"],\"tooltips\":[[\"Lng\",\"$x{custom}\"],[\"Lat\",\"$y{custom}\"],[\"City\",\"@{City}\"],[\"Humidity\",\"@{Humidity}\"],[\"Hotel Name\",\"@{Hotel_Name}\"],[\"Country\",\"@{Country}\"]]},\"id\":\"1149\",\"type\":\"HoverTool\"},{\"attributes\":{},\"id\":\"1173\",\"type\":\"ResetTool\"},{\"attributes\":{\"fill_alpha\":{\"value\":0.2},\"fill_color\":{\"field\":\"color\",\"transform\":{\"id\":\"1215\"}},\"hatch_alpha\":{\"value\":0.2},\"hatch_color\":{\"field\":\"color\",\"transform\":{\"id\":\"1215\"}},\"line_alpha\":{\"value\":0.2},\"line_color\":{\"field\":\"color\",\"transform\":{\"id\":\"1215\"}},\"size\":{\"field\":\"size\"},\"x\":{\"field\":\"Lng\"},\"y\":{\"field\":\"Lat\"}},\"id\":\"1223\",\"type\":\"Scatter\"},{\"attributes\":{\"end\":14366716.452919383,\"min_interval\":5,\"reset_end\":14366716.452919383,\"reset_start\":-10885605.506340533,\"start\":-10885605.506340533,\"tags\":[[[\"Lat\",\"Lat\",null]]]},\"id\":\"1146\",\"type\":\"Range1d\"},{\"attributes\":{},\"id\":\"1197\",\"type\":\"AllLabels\"},{\"attributes\":{\"axis_label\":\"y\",\"coordinates\":null,\"formatter\":{\"id\":\"1187\"},\"group\":null,\"major_label_policy\":{\"id\":\"1197\"},\"ticker\":{\"id\":\"1186\"}},\"id\":\"1165\",\"type\":\"LinearAxis\"},{\"attributes\":{\"end\":15408362.72915458,\"min_interval\":5,\"reset_end\":15408362.72915458,\"reset_start\":-19944888.0138093,\"start\":-19944888.0138093,\"tags\":[[[\"Lng\",\"Lng\",null]]]},\"id\":\"1145\",\"type\":\"Range1d\"},{\"attributes\":{\"below\":[{\"id\":\"1161\"}],\"center\":[{\"id\":\"1164\"},{\"id\":\"1168\"}],\"frame_height\":500,\"frame_width\":700,\"height\":null,\"left\":[{\"id\":\"1165\"}],\"margin\":[5,5,5,5],\"match_aspect\":true,\"min_border_bottom\":10,\"min_border_left\":10,\"min_border_right\":10,\"min_border_top\":10,\"renderers\":[{\"id\":\"1213\"},{\"id\":\"1224\"}],\"right\":[{\"id\":\"1232\"}],\"sizing_mode\":\"fixed\",\"title\":{\"id\":\"1153\"},\"toolbar\":{\"id\":\"1175\"},\"width\":null,\"x_range\":{\"id\":\"1145\"},\"x_scale\":{\"id\":\"1157\"},\"y_range\":{\"id\":\"1146\"},\"y_scale\":{\"id\":\"1159\"}},\"id\":\"1152\",\"subtype\":\"Figure\",\"type\":\"Plot\"},{\"attributes\":{\"axis\":{\"id\":\"1165\"},\"coordinates\":null,\"dimension\":1,\"grid_line_color\":null,\"group\":null,\"ticker\":null},\"id\":\"1168\",\"type\":\"Grid\"},{\"attributes\":{\"label\":{\"field\":\"color\"},\"renderers\":[{\"id\":\"1224\"}]},\"id\":\"1233\",\"type\":\"LegendItem\"},{\"attributes\":{},\"id\":\"1190\",\"type\":\"AllLabels\"},{\"attributes\":{\"fill_alpha\":{\"value\":0.5},\"fill_color\":{\"field\":\"color\",\"transform\":{\"id\":\"1215\"}},\"hatch_alpha\":{\"value\":0.1},\"hatch_color\":{\"field\":\"color\",\"transform\":{\"id\":\"1215\"}},\"line_alpha\":{\"value\":0.5},\"line_color\":{\"field\":\"color\",\"transform\":{\"id\":\"1215\"}},\"size\":{\"field\":\"size\"},\"x\":{\"field\":\"Lng\"},\"y\":{\"field\":\"Lat\"}},\"id\":\"1220\",\"type\":\"Scatter\"},{\"attributes\":{\"dimension\":\"lon\"},\"id\":\"1185\",\"type\":\"MercatorTickFormatter\"},{\"attributes\":{\"tools\":[{\"id\":\"1149\"},{\"id\":\"1169\"},{\"id\":\"1170\"},{\"id\":\"1171\"},{\"id\":\"1172\"},{\"id\":\"1173\"}]},\"id\":\"1175\",\"type\":\"Toolbar\"},{\"attributes\":{\"dimension\":\"lat\"},\"id\":\"1187\",\"type\":\"MercatorTickFormatter\"},{\"attributes\":{},\"id\":\"1169\",\"type\":\"SaveTool\"},{\"attributes\":{\"factors\":[\"kapaa\",\"hilo\",\"banda\",\"makakilo city\",\"kahului\",\"gat\",\"laguna\",\"tikaitnagar\",\"san quintin\",\"santa rosalia\",\"narwar\",\"port hedland\",\"roebourne\",\"saint-francois\",\"capoterra\",\"stolac\",\"guerrero negro\"],\"palette\":[\"#1f77b3\",\"#ff7e0e\",\"#2ba02b\",\"#d62628\",\"#9367bc\",\"#8c564b\",\"#e277c1\",\"#7e7e7e\",\"#bcbc21\",\"#16bdcf\",\"#3a0182\",\"#004201\",\"#0fffa8\",\"#5d003f\",\"#bcbcff\",\"#d8afa1\",\"#b80080\"]},\"id\":\"1215\",\"type\":\"CategoricalColorMapper\"},{\"attributes\":{\"code\":\"\\n        var projections = Bokeh.require(\\\"core/util/projections\\\");\\n        var x = special_vars.data_x\\n        var y = special_vars.data_y\\n        if (projections.wgs84_mercator.invert == null) {\\n          var coords = projections.wgs84_mercator.inverse([x, y])\\n        } else {\\n          var coords = projections.wgs84_mercator.invert(x, y)\\n        }\\n        return \\\"\\\" + (coords[0]).toFixed(4)\\n    \"},\"id\":\"1234\",\"type\":\"CustomJSHover\"},{\"attributes\":{\"match_aspect\":true,\"overlay\":{\"id\":\"1174\"}},\"id\":\"1172\",\"type\":\"BoxZoomTool\"},{\"attributes\":{\"margin\":[5,5,5,5],\"name\":\"HSpacer01687\",\"sizing_mode\":\"stretch_width\"},\"id\":\"1242\",\"type\":\"Spacer\"},{\"attributes\":{\"fill_alpha\":{\"value\":0.5},\"fill_color\":{\"field\":\"color\",\"transform\":{\"id\":\"1215\"}},\"hatch_alpha\":{\"value\":0.5},\"hatch_color\":{\"field\":\"color\",\"transform\":{\"id\":\"1215\"}},\"line_alpha\":{\"value\":0.5},\"line_color\":{\"field\":\"color\",\"transform\":{\"id\":\"1215\"}},\"size\":{\"field\":\"size\"},\"x\":{\"field\":\"Lng\"},\"y\":{\"field\":\"Lat\"}},\"id\":\"1221\",\"type\":\"Scatter\"},{\"attributes\":{\"dimension\":\"lon\"},\"id\":\"1184\",\"type\":\"MercatorTicker\"}],\"root_ids\":[\"1139\"]},\"title\":\"Bokeh Application\",\"version\":\"2.4.3\"}};\n",
       "    var render_items = [{\"docid\":\"c8f53044-6bb6-451a-8ec5-6a7e93149cf2\",\"root_ids\":[\"1139\"],\"roots\":{\"1139\":\"7b5a7bdc-70f8-4d0f-98b5-94088c2a4292\"}}];\n",
       "    root.Bokeh.embed.embed_items_notebook(docs_json, render_items);\n",
       "    for (const render_item of render_items) {\n",
       "      for (const root_id of render_item.root_ids) {\n",
       "\tconst id_el = document.getElementById(root_id)\n",
       "\tif (id_el.children.length && (id_el.children[0].className === 'bk-root')) {\n",
       "\t  const root_el = id_el.children[0]\n",
       "\t  root_el.id = root_el.id + '-rendered'\n",
       "\t}\n",
       "      }\n",
       "    }\n",
       "  }\n",
       "  if (root.Bokeh !== undefined && root.Bokeh.Panel !== undefined) {\n",
       "    embed_document(root);\n",
       "  } else {\n",
       "    var attempts = 0;\n",
       "    var timer = setInterval(function(root) {\n",
       "      if (root.Bokeh !== undefined && root.Bokeh.Panel !== undefined) {\n",
       "        clearInterval(timer);\n",
       "        embed_document(root);\n",
       "      } else if (document.readyState == \"complete\") {\n",
       "        attempts++;\n",
       "        if (attempts > 200) {\n",
       "          clearInterval(timer);\n",
       "          console.log(\"Bokeh: ERROR: Unable to run BokehJS code because BokehJS library is missing\");\n",
       "        }\n",
       "      }\n",
       "    }, 25, root)\n",
       "  }\n",
       "})(window);</script>"
      ],
      "text/plain": [
       ":Overlay\n",
       "   .Tiles.I  :Tiles   [x,y]\n",
       "   .Points.I :Points   [Lng,Lat]   (City,Humidity,Hotel Name,Country)"
      ]
     },
     "execution_count": 7,
     "metadata": {
      "application/vnd.holoviews_exec.v0+json": {
       "id": "1139"
      }
     },
     "output_type": "execute_result"
    }
   ],
   "source": [
    "%%capture --no-display\n",
    "\n",
    "# Configure the map plot\n",
    "# YOUR CODE HERE\n",
    "\n",
    "# Display the map\n",
    "# YOUR CODE HERE"
   ]
  },
  {
   "cell_type": "code",
   "execution_count": null,
   "metadata": {},
   "outputs": [],
   "source": []
  }
 ],
 "metadata": {
  "kernelspec": {
   "display_name": "Python 3 (ipykernel)",
   "language": "python",
   "name": "python3"
  },
  "language_info": {
   "codemirror_mode": {
    "name": "ipython",
    "version": 3
   },
   "file_extension": ".py",
   "mimetype": "text/x-python",
   "name": "python",
   "nbconvert_exporter": "python",
   "pygments_lexer": "ipython3",
   "version": "3.9.13"
  },
  "latex_envs": {
   "LaTeX_envs_menu_present": true,
   "autoclose": false,
   "autocomplete": true,
   "bibliofile": "biblio.bib",
   "cite_by": "apalike",
   "current_citInitial": 1,
   "eqLabelWithNumbers": true,
   "eqNumInitial": 1,
   "hotkeys": {
    "equation": "Ctrl-E",
    "itemize": "Ctrl-I"
   },
   "labels_anchors": false,
   "latex_user_defs": false,
   "report_style_numbering": false,
   "user_envs_cfg": false
  }
 },
 "nbformat": 4,
 "nbformat_minor": 4
}
